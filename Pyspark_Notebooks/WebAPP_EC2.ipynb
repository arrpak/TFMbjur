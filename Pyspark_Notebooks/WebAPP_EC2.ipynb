{
 "cells": [
  {
   "cell_type": "code",
   "execution_count": null,
   "metadata": {
    "collapsed": true
   },
   "outputs": [],
   "source": [
    "#Webserver de resultados\n",
    "#Volcar resultados en JSON(o matriz factorización)\n",
    "#manda ID user y devolverlo\n"
   ]
  },
  {
   "cell_type": "code",
   "execution_count": null,
   "metadata": {
    "collapsed": true
   },
   "outputs": [],
   "source": [
    "#Cargamos JSON PAIRS\n",
    "#http://docs.aws.amazon.com/elasticbeanstalk/latest/dg/create-deploy-python-flask.html"
   ]
  },
  {
   "cell_type": "code",
   "execution_count": null,
   "metadata": {
    "collapsed": true
   },
   "outputs": [],
   "source": [
    "from flask import Flask\n",
    "from flask_restful import Resource, Api, reqparse\n",
    "from flask_cors import CORS, cross_origin\n",
    "\n",
    "app = Flask(__name__)\n",
    "api = Api(app)\n",
    "CORS(app)\n",
    "\n",
    "parser = reqparse.RequestParser()\n",
    "parser.add_argument(\"valor\")\n",
    "\n",
    "class HelloWorld(Resource):\n",
    "    def get(self):\n",
    "        args = parse.parse_args()\n",
    "        return {'hello': AAPL.to_dict(orient=\"records\")}\n",
    "    \n",
    "class RecursoData(Resource):\n",
    "    def get(self):\n",
    "        args = parser.parse_args()\n",
    "        return {'result': data[:int(args[\"valor\"])]}\n",
    "class Plain(Resource):\n",
    "    def get(self):\n",
    "        args = parser.parse_args()\n",
    "        print \"pepe\"\n",
    "        return {'result':'pepe'}\n",
    "    \n",
    "    \n",
    "api.add_resource(HelloWorld, '/res')\n",
    "api.add_resource(RecursoData, '/data')\n",
    "api.add_resource(Plain, '/pepe')\n",
    "app.run(port=8090,host=\"0.0.0.0\",threaded=True)"
   ]
  },
  {
   "cell_type": "code",
   "execution_count": null,
   "metadata": {
    "collapsed": true
   },
   "outputs": [],
   "source": [
    "from flask import Blueprint\n",
    "main = Blueprint('main', __name__)\n",
    " \n",
    "import json\n",
    "from engine import RecommendationEngine\n",
    " \n",
    "import logging\n",
    "logging.basicConfig(level=logging.INFO)\n",
    "logger = logging.getLogger(__name__)\n",
    " \n",
    "from flask import Flask, request\n",
    " \n",
    "@main.route(\"/<int:user_id>/ratings/top/<int:count>\", methods=[\"GET\"])\n",
    "def top_ratings(user_id, count):\n",
    "    logger.debug(\"User %s TOP ratings requested\", user_id)\n",
    "    top_ratings = recommendation_engine.get_top_ratings(user_id,count)\n",
    "    return json.dumps(top_ratings)\n",
    " \n",
    "@main.route(\"/<int:user_id>/ratings/<int:movie_id>\", methods=[\"GET\"])\n",
    "def movie_ratings(user_id, movie_id):\n",
    "    logger.debug(\"User %s rating requested for movie %s\", user_id, movie_id)\n",
    "    ratings = recommendation_engine.get_ratings_for_movie_ids(user_id, [movie_id])\n",
    "    return json.dumps(ratings)\n",
    " \n",
    " \n",
    "@main.route(\"/<int:user_id>/ratings\", methods = [\"POST\"])\n",
    "def add_ratings(user_id):\n",
    "    # get the ratings from the Flask POST request object\n",
    "    ratings_list = request.form.keys()[0].strip().split(\"\\n\")\n",
    "    ratings_list = map(lambda x: x.split(\",\"), ratings_list)\n",
    "    # create a list with the format required by the negine (user_id, movie_id, rating)\n",
    "    ratings = map(lambda x: (user_id, int(x[0]), float(x[1])), ratings_list)\n",
    "    # add them to the model using then engine API\n",
    "    recommendation_engine.add_ratings(ratings)\n",
    " \n",
    "    return json.dumps(ratings)\n",
    " \n",
    " \n",
    "def create_app(spark_context, dataset_path):\n",
    "    global recommendation_engine \n",
    " \n",
    "    recommendation_engine = RecommendationEngine(spark_context, dataset_path)    \n",
    "    \n",
    "    app = Flask(__name__)\n",
    "    app.register_blueprint(main)\n",
    "    return app"
   ]
  }
 ],
 "metadata": {
  "kernelspec": {
   "display_name": "Python 2",
   "language": "python",
   "name": "python2"
  },
  "language_info": {
   "codemirror_mode": {
    "name": "ipython",
    "version": 2
   },
   "file_extension": ".py",
   "mimetype": "text/x-python",
   "name": "python",
   "nbconvert_exporter": "python",
   "pygments_lexer": "ipython2",
   "version": "2.7.12"
  }
 },
 "nbformat": 4,
 "nbformat_minor": 1
}
