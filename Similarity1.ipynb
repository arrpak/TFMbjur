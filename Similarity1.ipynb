{
 "cells": [
  {
   "cell_type": "code",
   "execution_count": 1,
   "metadata": {
    "collapsed": false
   },
   "outputs": [],
   "source": [
    "from\tpyspark.mllib.linalg\timport\tVector,\tVectors\n",
    "from\tpyspark.mllib.regression\timport\tLabeledPoint\n",
    "import math\n",
    "\n"
   ]
  },
  {
   "cell_type": "code",
   "execution_count": 3,
   "metadata": {
    "collapsed": false
   },
   "outputs": [],
   "source": [
    "def correlation(size, dotProduct, ratingSum,rating2Sum,ratingNormSq,rating2NormSq):\n",
    "    numerator = size * dotProduct - ratingSum * rating2Sum\n",
    "    denominator = math.sqrt(size * ratingNormSq - ratingSum * ratingSum)*math.sqrt(size * rating2NormSq - rating2Sum * rating2Sum)\n",
    "    #if denominator = 0:\n",
    "     #   corr =0;\n",
    "    #else:\n",
    "     #   corr = numerator / denominator\n",
    "    return  3\n",
    "\n",
    "\n",
    "def cosineSimilarity(dotProduct,ratingNorm,rating2Norm): \n",
    "    if ratingNorm * rating2Norm == 0:\n",
    "        cosi = 0\n",
    "    else: \n",
    "        cosi = dotProduct / (ratingNorm * rating2Norm)\n",
    "    \n",
    "    return cosi\n",
    "\n",
    "\n",
    "\n",
    "#def jaccardSimilarity(usersInCommon,totalUsers1,totalUsers2): \n",
    " #   union = totalUsers1 + totalUsers2 - usersInCommon\n",
    "  #  g = usersInCommon / union\n",
    "  #  return g\n"
   ]
  },
  {
   "cell_type": "code",
   "execution_count": null,
   "metadata": {
    "collapsed": true
   },
   "outputs": [],
   "source": []
  },
  {
   "cell_type": "code",
   "execution_count": 4,
   "metadata": {
    "collapsed": false
   },
   "outputs": [],
   "source": [
    "Logs = sc.textFile('Data/advertising.csv')\n",
    "header = Logs.first()\n",
    "Lorgs_norm = Logs.filter(lambda row: row != header).map(lambda l: l.split(','))\n",
    "Log2Rec = Lorgs_norm.map(lambda tokens: (int(tokens[2]),int(tokens[1]),1 if tokens[5] == \"True\" else 0)).cache()"
   ]
  },
  {
   "cell_type": "code",
   "execution_count": 24,
   "metadata": {
    "collapsed": false
   },
   "outputs": [
    {
     "data": {
      "text/plain": [
       "u',pub_domain,user_id,viewed,ctr,click'"
      ]
     },
     "execution_count": 24,
     "metadata": {},
     "output_type": "execute_result"
    }
   ],
   "source": [
    "header"
   ]
  },
  {
   "cell_type": "code",
   "execution_count": 5,
   "metadata": {
    "collapsed": false
   },
   "outputs": [
    {
     "data": {
      "text/plain": [
       "[(1410160, 1000, 1), (1157972, 1000, 0)]"
      ]
     },
     "execution_count": 5,
     "metadata": {},
     "output_type": "execute_result"
    }
   ],
   "source": [
    "Log2Rec.take(2)"
   ]
  },
  {
   "cell_type": "code",
   "execution_count": 6,
   "metadata": {
    "collapsed": false
   },
   "outputs": [],
   "source": [
    "numRatersPerMovie = Log2Rec.groupBy(lambda (x,y,z): y).map(lambda (x,iterator):(x,len(iterator)))"
   ]
  },
  {
   "cell_type": "code",
   "execution_count": 7,
   "metadata": {
    "collapsed": false
   },
   "outputs": [
    {
     "data": {
      "text/plain": [
       "[(1000, 3), (1002, 11)]"
      ]
     },
     "execution_count": 7,
     "metadata": {},
     "output_type": "execute_result"
    }
   ],
   "source": [
    "numRatersPerMovie.take(2)"
   ]
  },
  {
   "cell_type": "code",
   "execution_count": 28,
   "metadata": {
    "collapsed": false
   },
   "outputs": [],
   "source": []
  },
  {
   "cell_type": "code",
   "execution_count": 8,
   "metadata": {
    "collapsed": false
   },
   "outputs": [],
   "source": [
    "ratingsWithSize = Log2Rec.groupBy(lambda (x,y,z): y).join(numRatersPerMovie).flatMap(lambda(a,(b,c)):((x,c) for x in b))"
   ]
  },
  {
   "cell_type": "code",
   "execution_count": 9,
   "metadata": {
    "collapsed": false
   },
   "outputs": [],
   "source": [
    "ratingsWithSize2 = ratingsWithSize.map(lambda ((a,b,c),d):(a,b,c,d))"
   ]
  },
  {
   "cell_type": "code",
   "execution_count": 10,
   "metadata": {
    "collapsed": false
   },
   "outputs": [],
   "source": [
    "ratings2= ratingsWithSize2.keyBy(lambda (a,b,c,d):a)"
   ]
  },
  {
   "cell_type": "code",
   "execution_count": 12,
   "metadata": {
    "collapsed": false
   },
   "outputs": [
    {
     "data": {
      "text/plain": [
       "[(1204723, (1204723, 2048, 0, 379)),\n",
       " (1386074, (1386074, 2048, 0, 379)),\n",
       " (1060941, (1060941, 2048, 0, 379)),\n",
       " (1259031, (1259031, 2048, 0, 379))]"
      ]
     },
     "execution_count": 12,
     "metadata": {},
     "output_type": "execute_result"
    }
   ],
   "source": [
    "ratings2.take(4)"
   ]
  },
  {
   "cell_type": "code",
   "execution_count": 13,
   "metadata": {
    "collapsed": true
   },
   "outputs": [],
   "source": [
    "ratingPairs_4s = ratingsWithSize2.keyBy(lambda (a,b,c,d):a).join(ratings2)"
   ]
  },
  {
   "cell_type": "code",
   "execution_count": 14,
   "metadata": {
    "collapsed": false
   },
   "outputs": [
    {
     "data": {
      "text/plain": [
       "[(1179648, ((1179648, 1216, 1, 531), (1179648, 1216, 1, 531))),\n",
       " (1114112, ((1114112, 1293, 0, 478), (1114112, 1293, 0, 478))),\n",
       " (1114112, ((1114112, 1293, 0, 478), (1114112, 2023, 1, 397))),\n",
       " (1114112, ((1114112, 2023, 1, 397), (1114112, 1293, 0, 478)))]"
      ]
     },
     "execution_count": 14,
     "metadata": {},
     "output_type": "execute_result"
    }
   ],
   "source": [
    "ratingPairs_4s.take(4)"
   ]
  },
  {
   "cell_type": "code",
   "execution_count": 15,
   "metadata": {
    "collapsed": false
   },
   "outputs": [],
   "source": [
    "#me quito duplicidades y los que son iguales   \n",
    "ratingPairs = ratingPairs_4s.map(lambda (x,((a,b,c,d),(a1,b1,c1,d1))):(x,((a,int(b),c,d),(a1,int(b1),c1,d1)))).filter(lambda (x,((a,b,c,d),(a1,b1,c1,d1))):b<b1)"
   ]
  },
  {
   "cell_type": "code",
   "execution_count": 16,
   "metadata": {
    "collapsed": false
   },
   "outputs": [
    {
     "data": {
      "text/plain": [
       "1333474"
      ]
     },
     "execution_count": 16,
     "metadata": {},
     "output_type": "execute_result"
    }
   ],
   "source": [
    "ratingPairs.count()"
   ]
  },
  {
   "cell_type": "code",
   "execution_count": null,
   "metadata": {
    "collapsed": true
   },
   "outputs": [],
   "source": []
  },
  {
   "cell_type": "code",
   "execution_count": null,
   "metadata": {
    "collapsed": true
   },
   "outputs": [],
   "source": []
  },
  {
   "cell_type": "code",
   "execution_count": 17,
   "metadata": {
    "collapsed": false
   },
   "outputs": [
    {
     "data": {
      "text/plain": [
       "[(1114112, ((1114112, 1293, 0, 478), (1114112, 2023, 1, 397))),\n",
       " (1073672, ((1073672, 1369, 0, 442), (1073672, 1705, 1, 394))),\n",
       " (1073672, ((1073672, 1369, 0, 442), (1073672, 3934, 0, 143)))]"
      ]
     },
     "execution_count": 17,
     "metadata": {},
     "output_type": "execute_result"
    }
   ],
   "source": [
    "ratingPairs.take(3)"
   ]
  },
  {
   "cell_type": "code",
   "execution_count": 18,
   "metadata": {
    "collapsed": false
   },
   "outputs": [],
   "source": [
    "#z el rating , \n",
    "vectorial_params = ratingPairs.map(lambda (a,((x,y,z,k),(x1,y1,z1,k1))):((y,y1),(z*z1, z,z1,z*z,z1*z1,k,k1,1)) )"
   ]
  },
  {
   "cell_type": "code",
   "execution_count": 58,
   "metadata": {
    "collapsed": false
   },
   "outputs": [],
   "source": [
    "#vectorial_params_2 = vectorial_params.groupByKey().map(lambda (x,iterator):(x,(len(iterator),sum(iterator[1]))))"
   ]
  },
  {
   "cell_type": "code",
   "execution_count": 19,
   "metadata": {
    "collapsed": false
   },
   "outputs": [
    {
     "data": {
      "text/plain": [
       "[((1293, 2023), (0, 0, 1, 0, 1, 478, 397, 1)),\n",
       " ((1369, 1705), (0, 0, 1, 0, 1, 442, 394, 1)),\n",
       " ((1369, 3934), (0, 0, 0, 0, 0, 442, 143, 1)),\n",
       " ((1369, 2567), (0, 0, 0, 0, 0, 442, 302, 1))]"
      ]
     },
     "execution_count": 19,
     "metadata": {},
     "output_type": "execute_result"
    }
   ],
   "source": [
    "vectorial_params.take(4)"
   ]
  },
  {
   "cell_type": "code",
   "execution_count": 56,
   "metadata": {
    "collapsed": true
   },
   "outputs": [],
   "source": [
    "#vectorial_params_2 = vectorial_params.reduceByKey(lambda ((a,b,c,d,e,f,g),(a1,b1,c1,d1,e1,f1,g1)):(a+a1,b+b1,c+c1,d+d1,e+e1,f+f1,g+g1))"
   ]
  },
  {
   "cell_type": "code",
   "execution_count": 20,
   "metadata": {
    "collapsed": false
   },
   "outputs": [],
   "source": [
    "vectorial_params_3 = vectorial_params.reduceByKey(lambda x,y:(x[0]+y[0],x[1]+y[1],x[2]+y[2],x[3]+y[3],x[4]+y[4],x[5]+y[5],x[6]+y[6],x[7]+y[7]))"
   ]
  },
  {
   "cell_type": "code",
   "execution_count": 21,
   "metadata": {
    "collapsed": false
   },
   "outputs": [
    {
     "data": {
      "text/plain": [
       "[((2372, 3466), (0, 0, 0, 0, 0, 326, 192, 1)),\n",
       " ((1675, 2927), (1, 1, 1, 1, 1, 440, 293, 1)),\n",
       " ((1377, 1813), (0, 0, 0, 0, 0, 418, 396, 1)),\n",
       " ((2991, 4515), (0, 0, 1, 0, 1, 263, 60, 1)),\n",
       " ((1484, 2410), (0, 0, 1, 0, 1, 466, 356, 1))]"
      ]
     },
     "execution_count": 21,
     "metadata": {},
     "output_type": "execute_result"
    }
   ],
   "source": [
    "vectorial_params_3.take(5)"
   ]
  },
  {
   "cell_type": "code",
   "execution_count": 22,
   "metadata": {
    "collapsed": false
   },
   "outputs": [
    {
     "data": {
      "text/plain": [
       "176209"
      ]
     },
     "execution_count": 22,
     "metadata": {},
     "output_type": "execute_result"
    }
   ],
   "source": [
    "vectorial_params.count()-vectorial_params_3.count()"
   ]
  },
  {
   "cell_type": "code",
   "execution_count": 23,
   "metadata": {
    "collapsed": false
   },
   "outputs": [],
   "source": [
    "def correlation(size, dotProduct, ratingSum,rating2Sum,ratingNormSq,rating2NormSq):\n",
    "    numerator = size * dotProduct - ratingSum * rating2Sum\n",
    "    denominator = math.sqrt(size * ratingNormSq - ratingSum * ratingSum)*math.sqrt(size * rating2NormSq - rating2Sum * rating2Sum)\n",
    "    if denominator == 0:\n",
    "        corr =0 \n",
    "    else:\n",
    "        corr = numerator / denominator\n",
    "    return  corr"
   ]
  },
  {
   "cell_type": "code",
   "execution_count": 24,
   "metadata": {
    "collapsed": false
   },
   "outputs": [],
   "source": [
    "simmil_metrics= vectorial_params_3.mapValues(lambda (a,b,c,d,e,f,g,h):(correlation(h,a,b,c,d,e),h))\n",
    "\n",
    "#simmil_metrics= vectorial_params_3.map(lambda ((_1,_2),(a,b,c,d,e,f,g,h)):(correlation(h,a,b,c,d,e)))\n",
    "#,cosineSimilarity(a,math.sqrt(d),math.sqrt(e))\n"
   ]
  },
  {
   "cell_type": "code",
   "execution_count": 25,
   "metadata": {
    "collapsed": false,
    "scrolled": true
   },
   "outputs": [
    {
     "data": {
      "text/plain": [
       "[((1111, 1555), (1.0000000000000002, 4)),\n",
       " ((1252, 1778), (1.0000000000000002, 4)),\n",
       " ((1272, 1710), (1.0000000000000002, 4)),\n",
       " ((1536, 1766), (1.0000000000000002, 4)),\n",
       " ((1449, 2661), (1.0000000000000002, 4)),\n",
       " ((1172, 1605), (1.0000000000000002, 4)),\n",
       " ((1163, 1376), (1.0000000000000002, 4)),\n",
       " ((1581, 1582), (1.0000000000000002, 4)),\n",
       " ((1536, 1776), (1.0000000000000002, 4)),\n",
       " ((1311, 2661), (1.0000000000000002, 4)),\n",
       " ((1462, 1834), (1.0000000000000002, 4)),\n",
       " ((1212, 1420), (1.0000000000000002, 4)),\n",
       " ((1162, 1790), (1.0000000000000002, 4)),\n",
       " ((2304, 2440), (1.0000000000000002, 4)),\n",
       " ((1562, 2270), (1.0000000000000002, 4)),\n",
       " ((1930, 2397), (1.0000000000000002, 4)),\n",
       " ((1166, 1393), (1.0000000000000002, 4)),\n",
       " ((1599, 2494), (1.0000000000000002, 4)),\n",
       " ((1542, 1905), (1.0000000000000002, 4)),\n",
       " ((1189, 1644), (1.0000000000000002, 4)),\n",
       " ((1487, 1520), (1.0000000000000002, 4)),\n",
       " ((1338, 2451), (1.0000000000000002, 4)),\n",
       " ((1216, 1237), (1.0000000000000002, 4)),\n",
       " ((1236, 1361), (1.0000000000000002, 4)),\n",
       " ((1176, 2693), (1.0000000000000002, 4)),\n",
       " ((1187, 3172), (1.0000000000000002, 4)),\n",
       " ((2057, 2863), (1.0000000000000002, 4)),\n",
       " ((1188, 2107), (1.0000000000000002, 4)),\n",
       " ((1061, 1368), (1.0000000000000002, 4)),\n",
       " ((2083, 2534), (1.0000000000000002, 4)),\n",
       " ((1567, 2074), (1.0000000000000002, 4)),\n",
       " ((1894, 2420), (1.0, 2)),\n",
       " ((1286, 2636), (1.0, 2)),\n",
       " ((2128, 3702), (1.0, 2)),\n",
       " ((2481, 3053), (1.0, 2)),\n",
       " ((1080, 2430), (1.0, 2)),\n",
       " ((1456, 3926), (1.0, 2)),\n",
       " ((1281, 2045), (1.0, 2)),\n",
       " ((1580, 3122), (1.0, 2)),\n",
       " ((1631, 2027), (1.0, 2)),\n",
       " ((1232, 1662), (1.0, 2)),\n",
       " ((3415, 3747), (1.0, 2)),\n",
       " ((1552, 1694), (1.0, 2)),\n",
       " ((1420, 1994), (1.0, 2)),\n",
       " ((2284, 2882), (1.0, 2)),\n",
       " ((3017, 3197), (1.0, 2)),\n",
       " ((1696, 2686), (1.0, 2)),\n",
       " ((1254, 1732), (1.0, 2)),\n",
       " ((1543, 2139), (1.0, 2)),\n",
       " ((1189, 4337), (1.0, 2))]"
      ]
     },
     "execution_count": 25,
     "metadata": {},
     "output_type": "execute_result"
    }
   ],
   "source": [
    "simmil_metrics.sortBy(lambda ((a,b),(c,d)):-c).take(50)"
   ]
  },
  {
   "cell_type": "code",
   "execution_count": 53,
   "metadata": {
    "collapsed": false
   },
   "outputs": [],
   "source": [
    "#obtengo los items que guardan algún tipo de similaridad\n",
    "item = 1111\n",
    "sample = simmil_metrics.filter(lambda ((a,b),(x,y)): a==item or b==item).collect()"
   ]
  },
  {
   "cell_type": "code",
   "execution_count": 59,
   "metadata": {
    "collapsed": false
   },
   "outputs": [
    {
     "data": {
      "text/plain": [
       "1157265"
      ]
     },
     "execution_count": 59,
     "metadata": {},
     "output_type": "execute_result"
    }
   ],
   "source": [
    "sample_sz= len(sample)\n",
    "simil_sz = simmil_metrics.count()\n"
   ]
  },
  {
   "cell_type": "code",
   "execution_count": null,
   "metadata": {
    "collapsed": false
   },
   "outputs": [],
   "source": []
  },
  {
   "cell_type": "code",
   "execution_count": 102,
   "metadata": {
    "collapsed": true
   },
   "outputs": [],
   "source": []
  },
  {
   "cell_type": "code",
   "execution_count": null,
   "metadata": {
    "collapsed": true
   },
   "outputs": [],
   "source": [
    " cosineSimilarity(dotProduct, scala.math.sqrt(ratingNormSq), scala.math.sqrt(rating2NormSq))"
   ]
  }
 ],
 "metadata": {
  "kernelspec": {
   "display_name": "Python 2",
   "language": "python",
   "name": "python2"
  },
  "language_info": {
   "codemirror_mode": {
    "name": "ipython",
    "version": 2
   },
   "file_extension": ".py",
   "mimetype": "text/x-python",
   "name": "python",
   "nbconvert_exporter": "python",
   "pygments_lexer": "ipython2",
   "version": "2.7.12"
  }
 },
 "nbformat": 4,
 "nbformat_minor": 1
}
