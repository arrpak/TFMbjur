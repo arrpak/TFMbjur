{
 "cells": [
  {
   "cell_type": "code",
   "execution_count": 1,
   "metadata": {
    "collapsed": false
   },
   "outputs": [
    {
     "data": {
      "text/plain": [
       "<pyspark.context.SparkContext at 0x7f99fd3e4d10>"
      ]
     },
     "execution_count": 1,
     "metadata": {},
     "output_type": "execute_result"
    }
   ],
   "source": [
    "sc"
   ]
  },
  {
   "cell_type": "code",
   "execution_count": 4,
   "metadata": {
    "collapsed": false
   },
   "outputs": [
    {
     "name": "stdout",
     "output_type": "stream",
     "text": [
      "total 12\r\n",
      "drwxrwxr-x 2 bjur bjur 4096 jun  7 17:20 \u001b[0m\u001b[01;34mData\u001b[0m/\r\n",
      "-rw-rw-r-- 1 bjur bjur   10 jun  7 17:20 README.md\r\n",
      "-rw-rw-r-- 1 bjur bjur   72 jun  7 17:21 Untitled.ipynb\r\n"
     ]
    }
   ],
   "source": [
    "ls -l"
   ]
  },
  {
   "cell_type": "code",
   "execution_count": 1,
   "metadata": {
    "collapsed": true
   },
   "outputs": [],
   "source": [
    "Logs = sc.textFile('Data/advertising.csv')"
   ]
  },
  {
   "cell_type": "code",
   "execution_count": 2,
   "metadata": {
    "collapsed": false
   },
   "outputs": [
    {
     "data": {
      "text/plain": [
       "[u',pub_domain,user_id,viewed,ctr,click',\n",
       " u'1000,1000,1410160,True,0.463089335003,True',\n",
       " u'1000,1000,1157972,True,0.463089335003,False',\n",
       " u'1000,1000,1061623,True,0.463089335003,True',\n",
       " u'1001,1001,1169015,True,0.303265889759,True']"
      ]
     },
     "execution_count": 2,
     "metadata": {},
     "output_type": "execute_result"
    }
   ],
   "source": [
    "Logs.take(5)"
   ]
  },
  {
   "cell_type": "code",
   "execution_count": 3,
   "metadata": {
    "collapsed": true
   },
   "outputs": [],
   "source": [
    "Lorgs_norm = Logs.map(lambda l: l.split(','))\n",
    "#De momento me quedo con View = True xq para el reomendador son usuarios afines entre publishers, independientemente haya evento o no"
   ]
  },
  {
   "cell_type": "code",
   "execution_count": 4,
   "metadata": {
    "collapsed": false
   },
   "outputs": [
    {
     "data": {
      "text/plain": [
       "[[u'', u'pub_domain', u'user_id', u'viewed', u'ctr', u'click'],\n",
       " [u'1000', u'1000', u'1410160', u'True', u'0.463089335003', u'True'],\n",
       " [u'1000', u'1000', u'1157972', u'True', u'0.463089335003', u'False']]"
      ]
     },
     "execution_count": 4,
     "metadata": {},
     "output_type": "execute_result"
    }
   ],
   "source": [
    "Lorgs_norm.take(3)"
   ]
  },
  {
   "cell_type": "code",
   "execution_count": 5,
   "metadata": {
    "collapsed": true
   },
   "outputs": [],
   "source": [
    "a = Lorgs_norm.map(lambda tokens: (tokens[1],tokens[2],tokens[3],tokens[4],tokens[5])).cache()"
   ]
  },
  {
   "cell_type": "code",
   "execution_count": 8,
   "metadata": {
    "collapsed": false
   },
   "outputs": [
    {
     "data": {
      "text/plain": [
       "[(u'user_id', u'pub_domain', 0), (u'1410160', u'1000', 1)]"
      ]
     },
     "execution_count": 8,
     "metadata": {},
     "output_type": "execute_result"
    }
   ],
   "source": [
    "Log2Rec.take(2)"
   ]
  },
  {
   "cell_type": "code",
   "execution_count": 7,
   "metadata": {
    "collapsed": true
   },
   "outputs": [],
   "source": [
    "#Hago una tupla para mandarla al reccomendador,\n",
    "#Primero User, luego Publisher y finalmente yes or no si hay CTR\n",
    "Log2Rec = Lorgs_norm.map(lambda tokens: (tokens[2],tokens[1],1 if tokens[5] == \"True\" else 0)).cache()"
   ]
  },
  {
   "cell_type": "code",
   "execution_count": 9,
   "metadata": {
    "collapsed": true
   },
   "outputs": [],
   "source": [
    "#Divido en tres muestras (60,20,2) \n",
    "training_RDD, validation_RDD, test_RDD = Log2Rec.randomSplit([6, 2, 2], seed=0L)\n",
    "validation_for_predict_RDD = validation_RDD.map(lambda x: (x[0], x[1]))\n",
    "test_for_predict_RDD = test_RDD.map(lambda x: (x[0], x[1]))"
   ]
  },
  {
   "cell_type": "code",
   "execution_count": 10,
   "metadata": {
    "collapsed": false
   },
   "outputs": [
    {
     "data": {
      "text/plain": [
       "[(u'1410160', u'1000', 1), (u'1157972', u'1000', 0)]"
      ]
     },
     "execution_count": 10,
     "metadata": {},
     "output_type": "execute_result"
    }
   ],
   "source": [
    "training_RDD.take(2)"
   ]
  },
  {
   "cell_type": "code",
   "execution_count": 11,
   "metadata": {
    "collapsed": false
   },
   "outputs": [
    {
     "name": "stdout",
     "output_type": "stream",
     "text": [
      "For rank 4 the RMSE is 0.428348875339\n",
      "For rank 8 the RMSE is 0.414329847038\n",
      "For rank 12 the RMSE is 0.409517545949\n",
      "The best model was trained with rank 12\n"
     ]
    }
   ],
   "source": [
    "from pyspark.mllib.recommendation import ALS\n",
    "import math\n",
    "\n",
    "seed = 5L\n",
    "iterations = 10\n",
    "regularization_parameter = 0.1\n",
    "ranks = [4, 8, 12]\n",
    "errors = [0, 0, 0]\n",
    "err = 0\n",
    "tolerance = 0.02\n",
    "\n",
    "min_error = float('inf')\n",
    "best_rank = -1\n",
    "best_iteration = -1\n",
    "for rank in ranks:\n",
    "    model = ALS.train(training_RDD, rank, seed=seed, iterations=iterations,\n",
    "                      lambda_=regularization_parameter)\n",
    "    predictions = model.predictAll(validation_for_predict_RDD).map(lambda r: ((r[0], r[1]), r[2]))\n",
    "    rates_and_preds = validation_RDD.map(lambda r: ((int(r[0]), int(r[1])), float(r[2]))).join(predictions)\n",
    "    error = math.sqrt(rates_and_preds.map(lambda r: (r[1][0] - r[1][1])**2).mean())\n",
    "    errors[err] = error\n",
    "    err += 1\n",
    "    print 'For rank %s the RMSE is %s' % (rank, error)\n",
    "    if error < min_error:\n",
    "        min_error = error\n",
    "        best_rank = rank\n",
    "\n",
    "print 'The best model was trained with rank %s' % best_rank"
   ]
  },
  {
   "cell_type": "code",
   "execution_count": 21,
   "metadata": {
    "collapsed": false
   },
   "outputs": [],
   "source": [
    "from pyspark.mllib.recommendation import ALS\n",
    "import math\n",
    "\n",
    "seed = 5L\n",
    "iterations = 10\n",
    "regularization_parameter = 0.1\n",
    "ranks = 15\n",
    "errors = [0, 0, 0]\n",
    "err = 0\n",
    "tolerance = 0.02\n",
    "model2 = ALS.trainImplicit(training_RDD, rank, seed=seed, iterations=iterations,\n",
    "                      lambda_=regularization_parameter, alpha= 0.1)"
   ]
  },
  {
   "cell_type": "code",
   "execution_count": 12,
   "metadata": {
    "collapsed": false
   },
   "outputs": [
    {
     "data": {
      "text/plain": [
       "[((1211416, 4754), -0.10082496701343394),\n",
       " ((1339720, 1780), 0.0),\n",
       " ((1293580, 2304), -0.17215800845031254)]"
      ]
     },
     "execution_count": 12,
     "metadata": {},
     "output_type": "execute_result"
    }
   ],
   "source": [
    "predictions.take("
   ]
  },
  {
   "cell_type": "code",
   "execution_count": 13,
   "metadata": {
    "collapsed": false,
    "scrolled": true
   },
   "outputs": [
    {
     "data": {
      "text/plain": [
       "[((1238875, 2839), (0.0, -0.06643802220337772)),\n",
       " ((1178711, 1253), (0.0, 0.0)),\n",
       " ((1299202, 3024), (0.0, 0.0)),\n",
       " ((1304318, 1346), (0.0, 0.0)),\n",
       " ((1260565, 2365), (0.0, 0.0)),\n",
       " ((1280198, 1694), (0.0, 0.0)),\n",
       " ((1379538, 2800), (0.0, 0.0)),\n",
       " ((1142153, 1971), (0.0, -0.15116990760060742)),\n",
       " ((1148723, 1451), (0.0, 0.17749708379423781)),\n",
       " ((1216253, 1245), (0.0, 0.0)),\n",
       " ((1379052, 2208), (0.0, 0.0)),\n",
       " ((1308003, 2967), (0.0, 0.0)),\n",
       " ((1144303, 2783), (0.0, -0.029833808085095337)),\n",
       " ((1424644, 1598), (0.0, 0.0)),\n",
       " ((1210293, 2441), (0.0, -0.19611470561792116)),\n",
       " ((1106123, 2113), (0.0, -0.1759580570662202)),\n",
       " ((1421026, 3224), (0.0, 0.0)),\n",
       " ((1213341, 2223), (0.0, 0.0)),\n",
       " ((1145716, 1538), (0.0, 0.0)),\n",
       " ((1234225, 2443), (0.0, 0.0)),\n",
       " ((1388419, 3285), (0.0, 0.0)),\n",
       " ((1172845, 2395), (0.0, 0.028677720069723252)),\n",
       " ((1263505, 2127), (0.0, -0.17685081008038478)),\n",
       " ((1094170, 1208), (1.0, 0.0)),\n",
       " ((1351991, 3435), (0.0, 0.0)),\n",
       " ((1324072, 1216), (0.0, 0.0)),\n",
       " ((1347376, 1536), (0.0, 0.0)),\n",
       " ((1354350, 2688), (0.0, 0.0)),\n",
       " ((1144211, 3629), (1.0, 0.0)),\n",
       " ((1425063, 2525), (1.0, 0.0))]"
      ]
     },
     "execution_count": 13,
     "metadata": {},
     "output_type": "execute_result"
    }
   ],
   "source": [
    "rates_and_preds.take(30)"
   ]
  },
  {
   "cell_type": "code",
   "execution_count": 96,
   "metadata": {
    "collapsed": false
   },
   "outputs": [],
   "source": [
    "a = model.recommendUsers(1216,20000)\n"
   ]
  },
  {
   "cell_type": "code",
   "execution_count": 99,
   "metadata": {
    "collapsed": false
   },
   "outputs": [
    {
     "data": {
      "text/plain": [
       "[Rating(user=1411035, product=1216, rating=0.8445205086801759),\n",
       " Rating(user=1260096, product=1216, rating=0.8445205086801759)]"
      ]
     },
     "execution_count": 99,
     "metadata": {},
     "output_type": "execute_result"
    }
   ],
   "source": [
    "a[1:3]"
   ]
  },
  {
   "cell_type": "code",
   "execution_count": 102,
   "metadata": {
    "collapsed": true
   },
   "outputs": [],
   "source": [
    "from pyspark import Row\n",
    "ratings = sc.parallelize(a)"
   ]
  },
  {
   "cell_type": "code",
   "execution_count": 106,
   "metadata": {
    "collapsed": false
   },
   "outputs": [],
   "source": [
    "df = ratings.toDF()"
   ]
  },
  {
   "cell_type": "code",
   "execution_count": 113,
   "metadata": {
    "collapsed": false
   },
   "outputs": [
    {
     "data": {
      "text/plain": [
       "18966"
      ]
     },
     "execution_count": 113,
     "metadata": {},
     "output_type": "execute_result"
    }
   ],
   "source": [
    "type(df)\n",
    "df.count\n",
    "df2 = df.filter('rating<0.5')\n",
    "df2.count()"
   ]
  },
  {
   "cell_type": "code",
   "execution_count": 97,
   "metadata": {
    "collapsed": false
   },
   "outputs": [],
   "source": [
    "def line2amountDest(l):\n",
    "    fields = l.split(',')\n",
    "    user = fields[0]\n",
    "    product = fields[1]    \n",
    "    rating = fields[2]\n",
    "    \n",
    "    return (user, product,rating)\n"
   ]
  },
  {
   "cell_type": "code",
   "execution_count": 63,
   "metadata": {
    "collapsed": false
   },
   "outputs": [
    {
     "data": {
      "text/plain": [
       "[(u'user_id', u'pub_domain', 0), (u'1410160', u'1000', 1)]"
      ]
     },
     "execution_count": 63,
     "metadata": {},
     "output_type": "execute_result"
    }
   ],
   "source": [
    "Log2Rec.take(2)"
   ]
  },
  {
   "cell_type": "code",
   "execution_count": 25,
   "metadata": {
    "collapsed": false,
    "scrolled": true
   },
   "outputs": [
    {
     "data": {
      "text/plain": [
       "[(u'user_id', (u'pub_domain', 0, 1)),\n",
       " (u'1410160', (u'1000', 1, 1)),\n",
       " (u'1157972', (u'1000', 0, 1)),\n",
       " (u'1061623', (u'1000', 1, 1)),\n",
       " (u'1169015', (u'1001', 1, 1))]"
      ]
     },
     "execution_count": 25,
     "metadata": {},
     "output_type": "execute_result"
    }
   ],
   "source": [
    "Log2Rec_O = Log2Rec.map(lambda (x,y,z): (x,(y,z,1)))\n",
    "Log2Rec_O.take(5)"
   ]
  },
  {
   "cell_type": "code",
   "execution_count": 77,
   "metadata": {
    "collapsed": false
   },
   "outputs": [],
   "source": [
    "def red2list(a,b):\n",
    "    if len(a)>1:\n",
    "        c = a.append(b)\n",
    "    else:\n",
    "        \n",
    "        c= a,b}\n",
    "\n",
    "    return c"
   ]
  },
  {
   "cell_type": "code",
   "execution_count": null,
   "metadata": {
    "collapsed": true
   },
   "outputs": [],
   "source": []
  },
  {
   "cell_type": "code",
   "execution_count": 89,
   "metadata": {
    "collapsed": false
   },
   "outputs": [
    {
     "data": {
      "text/plain": [
       "377465"
      ]
     },
     "execution_count": 89,
     "metadata": {},
     "output_type": "execute_result"
    }
   ],
   "source": [
    "Log3Rec = Lorgs_norm.map(lambda tokens: (tokens[2],(tokens[1]))).cache()\n",
    "Log2Rec_1 = Log3Rec.groupByKey().map(lambda (user, iterator): (user, [x for x in iterator],len(iterator)))\n",
    "Log2Rec_1.count()"
   ]
  },
  {
   "cell_type": "code",
   "execution_count": 92,
   "metadata": {
    "collapsed": false
   },
   "outputs": [],
   "source": [
    "Log2Rec_2 = Log2Rec_1.filter(lambda (x,y,z): z>1)"
   ]
  },
  {
   "cell_type": "code",
   "execution_count": 93,
   "metadata": {
    "collapsed": false
   },
   "outputs": [
    {
     "data": {
      "text/plain": [
       "263422"
      ]
     },
     "execution_count": 93,
     "metadata": {},
     "output_type": "execute_result"
    }
   ],
   "source": [
    "Log2Rec_2.count()"
   ]
  }
 ],
 "metadata": {
  "kernelspec": {
   "display_name": "Python 2",
   "language": "python",
   "name": "python2"
  },
  "language_info": {
   "codemirror_mode": {
    "name": "ipython",
    "version": 2
   },
   "file_extension": ".py",
   "mimetype": "text/x-python",
   "name": "python",
   "nbconvert_exporter": "python",
   "pygments_lexer": "ipython2",
   "version": "2.7.12"
  }
 },
 "nbformat": 4,
 "nbformat_minor": 1
}
