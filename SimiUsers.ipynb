{
 "cells": [
  {
   "cell_type": "code",
   "execution_count": 1,
   "metadata": {
    "collapsed": true
   },
   "outputs": [],
   "source": [
    "#########BLOQUE IMPORTACIÓN LIBRERIAS\n",
    "from\tpyspark.mllib.linalg\timport\tVector,\tVectors\n",
    "from\tpyspark.mllib.regression\timport\tLabeledPoint\n",
    "import math\n",
    "\n",
    "#########BLOQUE DEFINICIÓN FUNCIONES\n",
    "\n",
    "def correlation(size, dotProduct, ratingSum,rating2Sum,ratingNormSq,rating2NormSq):\n",
    "    numerator = size * dotProduct - ratingSum * rating2Sum\n",
    "    denominator = math.sqrt(size * ratingNormSq - ratingSum * ratingSum)*math.sqrt(size * rating2NormSq - rating2Sum * rating2Sum)\n",
    "    #if denominator = 0:\n",
    "     #   corr =0;\n",
    "    #else:\n",
    "     #   corr = numerator / denominator\n",
    "    return  3\n",
    "\n",
    "\n",
    "def cosineSimilarity(dotProduct,ratingNorm,rating2Norm): \n",
    "    if ratingNorm * rating2Norm == 0:\n",
    "        cosi = 0\n",
    "    else: \n",
    "        cosi = dotProduct / (ratingNorm * rating2Norm)\n",
    "    \n",
    "    return cosi\n",
    "\n",
    "\n",
    "###CARGA DATOS, usamos otra fuente  QUE TIENE LA MISMA ESTRUCTURA (UserId,Publisher Id),con fuente\n",
    "Logs = sc.textFile('Data/advertising.csv')\n",
    "header = Logs.first()\n",
    "#quito headers\n",
    "Lorgs_norm = Logs.filter(lambda row: row != header).map(lambda l: l.split(','))\n",
    "#Para el calculo , me quedo solo con aquellos usuarios que hayan recibido la impresion original\n",
    "#agrupamos por publisher, y sacamos el numero de usuarios por publisher, de la forma (publisher, numero de usuarios)\n",
    "\n",
    "Log2Rec = Lorgs_norm.map(lambda tokens: (int(tokens[2]),int(tokens[1]),1 if tokens[5] == \"True\" else 0)).cache()\n"
   ]
  },
  {
   "cell_type": "code",
   "execution_count": 54,
   "metadata": {
    "collapsed": false
   },
   "outputs": [
    {
     "data": {
      "text/plain": [
       "[(1410160, 1000, 1),\n",
       " (1157972, 1000, 0),\n",
       " (1061623, 1000, 1),\n",
       " (1169015, 1001, 1)]"
      ]
     },
     "execution_count": 54,
     "metadata": {},
     "output_type": "execute_result"
    }
   ],
   "source": [
    "Log2Rec.take(4)"
   ]
  },
  {
   "cell_type": "code",
   "execution_count": 2,
   "metadata": {
    "collapsed": true
   },
   "outputs": [],
   "source": [
    "#agrupamos por usuario, y sacamos el numero de interacciones por publisher, de la forma (usuario, numero de interacciones con publishers)\n",
    "num_InterPerUser = Log2Rec.groupBy(lambda (x,y,z): x).map(lambda (x,iterator):(x,len(iterator)))"
   ]
  },
  {
   "cell_type": "code",
   "execution_count": 4,
   "metadata": {
    "collapsed": false
   },
   "outputs": [],
   "source": [
    "#filtro los que tengan menos de una interacción\n",
    "num_InterPerUser_fil = num_InterPerUser.filter(lambda (x,y): y>2) "
   ]
  },
  {
   "cell_type": "code",
   "execution_count": 8,
   "metadata": {
    "collapsed": false
   },
   "outputs": [
    {
     "data": {
      "text/plain": [
       "[(1048580, 3), (1048590, 4)]"
      ]
     },
     "execution_count": 8,
     "metadata": {},
     "output_type": "execute_result"
    }
   ],
   "source": [
    "num_InterPerUser_fil.take(2)"
   ]
  },
  {
   "cell_type": "code",
   "execution_count": 9,
   "metadata": {
    "collapsed": false
   },
   "outputs": [
    {
     "data": {
      "text/plain": [
       "168498"
      ]
     },
     "execution_count": 9,
     "metadata": {},
     "output_type": "execute_result"
    }
   ],
   "source": [
    "num_InterPerUser_fil.count()"
   ]
  },
  {
   "cell_type": "code",
   "execution_count": 24,
   "metadata": {
    "collapsed": false
   },
   "outputs": [
    {
     "data": {
      "text/plain": [
       "168498"
      ]
     },
     "execution_count": 24,
     "metadata": {},
     "output_type": "execute_result"
    }
   ],
   "source": [
    "num_InterPerUser_fil.count()"
   ]
  },
  {
   "cell_type": "code",
   "execution_count": 5,
   "metadata": {
    "collapsed": false
   },
   "outputs": [],
   "source": [
    "#agrupamos por usuario, desde key y hacemos el join para tener ( usuario,publisher, imp, volumen de interacciones por usuario)\n",
    "ints_sWithSize = Log2Rec.groupBy(lambda (x,y,z): x).join(num_InterPerUser_fil).flatMap(lambda(a,(b,c)):((x,c) for x in b))"
   ]
  },
  {
   "cell_type": "code",
   "execution_count": 26,
   "metadata": {
    "collapsed": false
   },
   "outputs": [
    {
     "data": {
      "text/plain": [
       "[((1048580, 2134, 0), 3), ((1048580, 2429, 0), 3)]"
      ]
     },
     "execution_count": 26,
     "metadata": {},
     "output_type": "execute_result"
    }
   ],
   "source": [
    "ints_sWithSize.take(2)"
   ]
  },
  {
   "cell_type": "code",
   "execution_count": 6,
   "metadata": {
    "collapsed": false
   },
   "outputs": [],
   "source": [
    "ints_sWithSize_2 = ints_sWithSize.map(lambda((a,b,c),d):(b,(a,c,d)))"
   ]
  },
  {
   "cell_type": "code",
   "execution_count": 16,
   "metadata": {
    "collapsed": false
   },
   "outputs": [
    {
     "data": {
      "text/plain": [
       "[(2134, (1048580, 0, 3)), (2429, (1048580, 0, 3))]"
      ]
     },
     "execution_count": 16,
     "metadata": {},
     "output_type": "execute_result"
    }
   ],
   "source": [
    "#HAgo pares usuario a usuario desde la interracción por publisher\n",
    "ints_sWithSize_2.take(2)"
   ]
  },
  {
   "cell_type": "code",
   "execution_count": 27,
   "metadata": {
    "collapsed": false
   },
   "outputs": [
    {
     "data": {
      "text/plain": [
       "696110"
      ]
     },
     "execution_count": 27,
     "metadata": {},
     "output_type": "execute_result"
    }
   ],
   "source": [
    "ints_sWithSize_2.count()"
   ]
  },
  {
   "cell_type": "code",
   "execution_count": 7,
   "metadata": {
    "collapsed": true
   },
   "outputs": [],
   "source": [
    "#reasigno key al publisher, y hago un join , de cara a ver cada una de las interecciones comunes entre usuarios, usuario a usuario\n",
    "inter_pairs_pub = ints_sWithSize_2.join(ints_sWithSize_2)\n",
    "#(publisher, usruo 1, usuario 2)"
   ]
  },
  {
   "cell_type": "code",
   "execution_count": 51,
   "metadata": {
    "collapsed": false
   },
   "outputs": [
    {
     "data": {
      "text/plain": [
       "[(2048, ((1310980, 0, 5), (1310980, 0, 5))),\n",
       " (2048, ((1310980, 0, 5), (1399116, 0, 3)))]"
      ]
     },
     "execution_count": 51,
     "metadata": {},
     "output_type": "execute_result"
    }
   ],
   "source": [
    "inter_pairs_pub.take(2)"
   ]
  },
  {
   "cell_type": "code",
   "execution_count": 9,
   "metadata": {
    "collapsed": false
   },
   "outputs": [],
   "source": [
    "#me quito duplicidades y los que son iguales, buscamos tener copres entre peliculas para cada usuario\n",
    "ratingPairs = inter_pairs_pub.map(lambda (x,((a,b,c),(a1,b1,c1))):(x,((int(a),int(b),c),(int(a1),int(b1),c1)))).filter(lambda (x,((a,b,c),(a1,b1,c1))):a<a1)"
   ]
  },
  {
   "cell_type": "code",
   "execution_count": 52,
   "metadata": {
    "collapsed": false
   },
   "outputs": [
    {
     "data": {
      "text/plain": [
       "[(2048, ((1310980, 0, 5), (1399116, 0, 3))),\n",
       " (2048, ((1310980, 0, 5), (1340412, 0, 4)))]"
      ]
     },
     "execution_count": 52,
     "metadata": {},
     "output_type": "execute_result"
    }
   ],
   "source": [
    "ratingPairs.take(2)"
   ]
  },
  {
   "cell_type": "code",
   "execution_count": 10,
   "metadata": {
    "collapsed": false
   },
   "outputs": [],
   "source": [
    "#z el rating , (par)\n",
    "vectorial_params = ratingPairs.map(lambda (a,((y,z,k),(y1,z1,k1))):((y,y1),(z*z1, z,z1,z*z,z1*z1,k,k1,1)) )"
   ]
  },
  {
   "cell_type": "code",
   "execution_count": 9,
   "metadata": {
    "collapsed": false,
    "scrolled": true
   },
   "outputs": [
    {
     "data": {
      "text/plain": [
       "[((1310980, 1399116), (0, 0, 0, 0, 0, 5, 3, 1)),\n",
       " ((1310980, 1340412), (0, 0, 0, 0, 0, 5, 4, 1)),\n",
       " ((1310980, 1349928), (0, 0, 0, 0, 0, 5, 3, 1)),\n",
       " ((1310980, 1361340), (0, 0, 0, 0, 0, 5, 3, 1))]"
      ]
     },
     "execution_count": 9,
     "metadata": {},
     "output_type": "execute_result"
    }
   ],
   "source": [
    "vectorial_params.take(4)"
   ]
  },
  {
   "cell_type": "code",
   "execution_count": 15,
   "metadata": {
    "collapsed": true
   },
   "outputs": [],
   "source": [
    "vectorial_params_3 = vectorial_params.reduceByKey(lambda x,y:(x[0]+y[0],x[1]+y[1],x[2]+y[2],x[3]+y[3],x[4]+y[4],x[5]+y[5],x[6]+y[6],x[7]+y[7])).cache()"
   ]
  },
  {
   "cell_type": "code",
   "execution_count": 54,
   "metadata": {
    "collapsed": false
   },
   "outputs": [
    {
     "data": {
      "text/plain": [
       "[((1248672, 1286966), (0, 0, 0, 0, 0, 5, 7, 1)),\n",
       " ((1095255, 1155955), (0, 0, 0, 0, 0, 3, 4, 1)),\n",
       " ((1226657, 1269965), (0, 0, 0, 0, 0, 7, 3, 1)),\n",
       " ((1069756, 1397362), (0, 0, 0, 0, 0, 3, 3, 1)),\n",
       " ((1113240, 1319382), (0, 1, 0, 1, 0, 4, 4, 1))]"
      ]
     },
     "execution_count": 54,
     "metadata": {},
     "output_type": "execute_result"
    }
   ],
   "source": [
    "vectorial_params_3.take(5)"
   ]
  },
  {
   "cell_type": "code",
   "execution_count": 22,
   "metadata": {
    "collapsed": true
   },
   "outputs": [],
   "source": [
    "def correlation(size, dotProduct, ratingSum,rating2Sum,ratingNormSq,rating2NormSq):\n",
    "    numerator = size * dotProduct - ratingSum * rating2Sum\n",
    "    denominator = math.sqrt(size * ratingNormSq - ratingSum * ratingSum)*math.sqrt(size * rating2NormSq - rating2Sum * rating2Sum)\n",
    "    if denominator == 0:\n",
    "        corr =0 \n",
    "    else:\n",
    "        corr = numerator / denominator\n",
    "    return  corr\n",
    "\n",
    "def cosineSimilarity(dotProduct,ratingNorm,rating2Norm): \n",
    "    if ratingNorm * rating2Norm == 0:\n",
    "        cosi = 0\n",
    "    else: \n",
    "        cosi = dotProduct / (ratingNorm * rating2Norm)\n",
    "    \n",
    "    return cosi\n",
    "def find_seg(name):\n",
    "   for segs in data:\n",
    "      if  segs['name']  == name:\n",
    "         return segs['IDs']"
   ]
  },
  {
   "cell_type": "code",
   "execution_count": 16,
   "metadata": {
    "collapsed": false,
    "scrolled": true
   },
   "outputs": [],
   "source": [
    "simmil_metrics_2= vectorial_params_3.mapValues(lambda (a,b,c,d,e,f,g,h):(h,correlation(h,a,b,c,d,e))).cache()\n"
   ]
  },
  {
   "cell_type": "code",
   "execution_count": 13,
   "metadata": {
    "collapsed": true
   },
   "outputs": [],
   "source": [
    "simmil_metrics= vectorial_params_3.mapValues(lambda (a,b,c,d,e,f,g,h):(h,cosineSimilarity(a,math.sqrt(d),math.sqrt(e)))).cache()\n"
   ]
  },
  {
   "cell_type": "code",
   "execution_count": 17,
   "metadata": {
    "collapsed": false
   },
   "outputs": [
    {
     "data": {
      "text/plain": [
       "80443657"
      ]
     },
     "execution_count": 17,
     "metadata": {},
     "output_type": "execute_result"
    }
   ],
   "source": [
    "simmil_metrics_2.count()"
   ]
  },
  {
   "cell_type": "code",
   "execution_count": null,
   "metadata": {
    "collapsed": true
   },
   "outputs": [],
   "source": [
    "#obtengo los items que guardan algún tipo de similaridad\n",
    "item = 1111\n",
    "sample = simmil_metrics.filter(lambda ((a,b),(x,y)): a==item or b==item).collect()"
   ]
  },
  {
   "cell_type": "code",
   "execution_count": 19,
   "metadata": {
    "collapsed": false
   },
   "outputs": [
    {
     "data": {
      "text/plain": [
       "[((1256224, 1292438), (1, 0)), ((1207951, 1310619), (1, 0))]"
      ]
     },
     "execution_count": 19,
     "metadata": {},
     "output_type": "execute_result"
    }
   ],
   "source": [
    "simmil_metrics_2.take(2)"
   ]
  },
  {
   "cell_type": "code",
   "execution_count": 20,
   "metadata": {
    "collapsed": true
   },
   "outputs": [],
   "source": [
    "crit = simmil_metrics.filter(lambda ((a,b),(x,y)):y>0.5).cache()"
   ]
  },
  {
   "cell_type": "code",
   "execution_count": 21,
   "metadata": {
    "collapsed": false
   },
   "outputs": [
    {
     "data": {
      "text/plain": [
       "[((1035324, 1185282), (1, 1.0)),\n",
       " ((1188772, 1340010), (1, 1.0)),\n",
       " ((1091085, 1131473), (1, 1.0)),\n",
       " ((1292148, 1324010), (1, 1.0)),\n",
       " ((1077750, 1180524), (1, 1.0))]"
      ]
     },
     "execution_count": 21,
     "metadata": {},
     "output_type": "execute_result"
    }
   ],
   "source": [
    "crit.take(5)"
   ]
  },
  {
   "cell_type": "code",
   "execution_count": 23,
   "metadata": {
    "collapsed": false
   },
   "outputs": [
    {
     "data": {
      "text/plain": [
       "2852614"
      ]
     },
     "execution_count": 23,
     "metadata": {},
     "output_type": "execute_result"
    }
   ],
   "source": [
    "#Pares con similaridad mayor al 50%\n",
    "crit.count()"
   ]
  },
  {
   "cell_type": "code",
   "execution_count": 25,
   "metadata": {
    "collapsed": false
   },
   "outputs": [
    {
     "data": {
      "text/plain": [
       "PythonRDD[35] at RDD at PythonRDD.scala:48"
      ]
     },
     "execution_count": 25,
     "metadata": {},
     "output_type": "execute_result"
    }
   ],
   "source": [
    "vectorial_params_3.unpersist()"
   ]
  },
  {
   "cell_type": "code",
   "execution_count": 26,
   "metadata": {
    "collapsed": false
   },
   "outputs": [
    {
     "data": {
      "text/plain": [
       "PythonRDD[39] at RDD at PythonRDD.scala:48"
      ]
     },
     "execution_count": 26,
     "metadata": {},
     "output_type": "execute_result"
    }
   ],
   "source": [
    "crit.cache()"
   ]
  },
  {
   "cell_type": "code",
   "execution_count": 32,
   "metadata": {
    "collapsed": true
   },
   "outputs": [],
   "source": [
    "import json"
   ]
  },
  {
   "cell_type": "code",
   "execution_count": 47,
   "metadata": {
    "collapsed": false
   },
   "outputs": [
    {
     "data": {
      "text/plain": [
       "[(1035324, (1185282, 1.0)),\n",
       " (1185282, (1035324, 1.0)),\n",
       " (1188772, (1340010, 1.0)),\n",
       " (1340010, (1188772, 1.0)),\n",
       " (1091085, (1131473, 1.0))]"
      ]
     },
     "execution_count": 47,
     "metadata": {},
     "output_type": "execute_result"
    }
   ],
   "source": [
    "crit_long.take(5)"
   ]
  },
  {
   "cell_type": "code",
   "execution_count": 80,
   "metadata": {
    "collapsed": false
   },
   "outputs": [],
   "source": [
    "#desdoblo cada par que tiene una media superior al 50%\n",
    "crit_long = crit.flatMap(lambda((a,b),(x,y)):((a,(b,y)),(b,(a,y))))\n",
    "crit_long_grouped = crit_long.groupByKey().map(lambda (a_lg,b_lg):{\"user\": a_lg,\"similars\":[x for x in b_lg],\"len\":len(b_lg)})\n"
   ]
  },
  {
   "cell_type": "code",
   "execution_count": 81,
   "metadata": {
    "collapsed": false
   },
   "outputs": [
    {
     "data": {
      "text/plain": [
       "[{'len': 167,\n",
       "  'similars': [(1175706, 1.0),\n",
       "   (1229702, 1.0),\n",
       "   (1190250, 1.0),\n",
       "   (1142154, 1.0),\n",
       "   (1228462, 1.0),\n",
       "   (1301958, 1.0),\n",
       "   (1096154, 1.0),\n",
       "   (1131002, 1.0),\n",
       "   (1176162, 1.0),\n",
       "   (1175594, 1.0),\n",
       "   (1298126, 1.0),\n",
       "   (1209082, 1.0),\n",
       "   (1230126, 1.0),\n",
       "   (1152114, 1.0),\n",
       "   (1304734, 1.0),\n",
       "   (1171210, 1.0),\n",
       "   (1241358, 1.0),\n",
       "   (1242574, 1.0),\n",
       "   (1170698, 1.0),\n",
       "   (1322982, 1.0),\n",
       "   (1308782, 1.0),\n",
       "   (1219438, 1.0),\n",
       "   (1139066, 1.0),\n",
       "   (1345409, 1.0),\n",
       "   (1126979, 1.0),\n",
       "   (1353537, 1.0),\n",
       "   (1182947, 1.0),\n",
       "   (1226729, 1.0),\n",
       "   (1274641, 1.0),\n",
       "   (1238729, 1.0),\n",
       "   (1311897, 1.0),\n",
       "   (1136067, 1.0),\n",
       "   (1290937, 1.0),\n",
       "   (1256057, 1.0),\n",
       "   (1197531, 1.0),\n",
       "   (1185995, 1.0),\n",
       "   (1293313, 1.0),\n",
       "   (1212417, 1.0),\n",
       "   (1424089, 1.0),\n",
       "   (1151667, 1.0),\n",
       "   (1260905, 1.0),\n",
       "   (1075859, 1.0),\n",
       "   (1201891, 1.0),\n",
       "   (1172691, 1.0),\n",
       "   (1272513, 1.0),\n",
       "   (1295529, 1.0),\n",
       "   (1246505, 1.0),\n",
       "   (1190579, 1.0),\n",
       "   (1133035, 1.0),\n",
       "   (1207395, 1.0),\n",
       "   (1164824, 1.0),\n",
       "   (1197472, 1.0),\n",
       "   (1088560, 1.0),\n",
       "   (1334096, 1.0),\n",
       "   (1340088, 1.0),\n",
       "   (1202880, 1.0),\n",
       "   (1331816, 1.0),\n",
       "   (1195904, 1.0),\n",
       "   (1326480, 1.0),\n",
       "   (1203288, 1.0),\n",
       "   (1229680, 1.0),\n",
       "   (1181464, 1.0),\n",
       "   (1289816, 1.0),\n",
       "   (1213400, 1.0),\n",
       "   (1186984, 1.0),\n",
       "   (1226072, 1.0),\n",
       "   (1210224, 1.0),\n",
       "   (1155257, 1.0),\n",
       "   (1172553, 1.0),\n",
       "   (1249883, 1.0),\n",
       "   (1298427, 1.0),\n",
       "   (1305155, 1.0),\n",
       "   (1255731, 1.0),\n",
       "   (1341395, 1.0),\n",
       "   (1340851, 1.0),\n",
       "   (1281643, 1.0),\n",
       "   (1108865, 1.0),\n",
       "   (1112969, 1.0),\n",
       "   (1211553, 1.0),\n",
       "   (1238899, 1.0),\n",
       "   (1278627, 1.0),\n",
       "   (1212915, 1.0),\n",
       "   (1237618, 1.0),\n",
       "   (1181422, 1.0),\n",
       "   (1225626, 1.0),\n",
       "   (1303330, 1.0),\n",
       "   (1097638, 1.0),\n",
       "   (1155190, 1.0),\n",
       "   (1328170, 1.0),\n",
       "   (1138702, 1.0),\n",
       "   (1277410, 1.0),\n",
       "   (1344746, 1.0),\n",
       "   (1074742, 1.0),\n",
       "   (1294250, 1.0),\n",
       "   (1316738, 1.0),\n",
       "   (1214090, 1.0),\n",
       "   (1373450, 1.0),\n",
       "   (1164310, 1.0),\n",
       "   (1327258, 1.0),\n",
       "   (1181390, 1.0),\n",
       "   (1275965, 1.0),\n",
       "   (1193447, 1.0),\n",
       "   (1325405, 1.0),\n",
       "   (1142799, 1.0),\n",
       "   (1099927, 1.0),\n",
       "   (1248405, 1.0),\n",
       "   (1354773, 1.0),\n",
       "   (1233621, 1.0),\n",
       "   (1118815, 1.0),\n",
       "   (1134551, 1.0),\n",
       "   (1262885, 1.0),\n",
       "   (1311101, 1.0),\n",
       "   (1263613, 1.0),\n",
       "   (1153663, 1.0),\n",
       "   (1154151, 1.0),\n",
       "   (1094807, 1.0),\n",
       "   (1335941, 1.0),\n",
       "   (1104079, 1.0),\n",
       "   (1081831, 1.0),\n",
       "   (1199607, 1.0),\n",
       "   (1141847, 1.0),\n",
       "   (1035055, 1.0),\n",
       "   (1197231, 1.0),\n",
       "   (1161271, 1.0),\n",
       "   (1263469, 1.0),\n",
       "   (1262540, 1.0),\n",
       "   (1365892, 1.0),\n",
       "   (1103452, 1.0),\n",
       "   (1064204, 1.0),\n",
       "   (1282092, 1.0),\n",
       "   (1228684, 1.0),\n",
       "   (1375668, 1.0),\n",
       "   (1267132, 1.0),\n",
       "   (1280060, 1.0),\n",
       "   (1256116, 1.0),\n",
       "   (1313052, 1.0),\n",
       "   (1168612, 1.0),\n",
       "   (1201932, 1.0),\n",
       "   (1253156, 1.0),\n",
       "   (1141820, 1.0),\n",
       "   (1271876, 1.0),\n",
       "   (1311948, 1.0),\n",
       "   (1280268, 1.0),\n",
       "   (1365980, 1.0),\n",
       "   (1262596, 1.0),\n",
       "   (1214332, 1.0),\n",
       "   (1212037, 1.0),\n",
       "   (1337879, 1.0),\n",
       "   (1193277, 1.0),\n",
       "   (1218039, 1.0),\n",
       "   (1242903, 1.0),\n",
       "   (1273335, 1.0),\n",
       "   (1115205, 1.0),\n",
       "   (1258895, 1.0),\n",
       "   (1422847, 1.0),\n",
       "   (1228527, 1.0),\n",
       "   (1320927, 1.0),\n",
       "   (1073653, 1.0),\n",
       "   (1149445, 1.0),\n",
       "   (1135445, 1.0),\n",
       "   (1293415, 1.0),\n",
       "   (1254055, 1.0),\n",
       "   (1254263, 1.0),\n",
       "   (1304207, 1.0),\n",
       "   (1307511, 1.0),\n",
       "   (1397319, 1.0),\n",
       "   (1163973, 1.0)],\n",
       "  'user': 1212416},\n",
       " {'len': 62,\n",
       "  'similars': [(1357030, 1.0),\n",
       "   (1281654, 1.0),\n",
       "   (1214434, 1.0),\n",
       "   (1138170, 1.0),\n",
       "   (1259478, 1.0),\n",
       "   (1142443, 1.0),\n",
       "   (1188179, 1.0),\n",
       "   (1173883, 1.0),\n",
       "   (1171843, 1.0),\n",
       "   (1178123, 1.0),\n",
       "   (1303817, 1.0),\n",
       "   (1138027, 1.0),\n",
       "   (1182560, 1.0),\n",
       "   (1177544, 1.0),\n",
       "   (1161824, 1.0),\n",
       "   (1334368, 1.0),\n",
       "   (1272696, 1.0),\n",
       "   (1176984, 1.0),\n",
       "   (1066488, 1.0),\n",
       "   (1215688, 1.0),\n",
       "   (1122928, 1.0),\n",
       "   (1337288, 1.0),\n",
       "   (1385376, 1.0),\n",
       "   (1222496, 1.0),\n",
       "   (1334640, 1.0),\n",
       "   (1211505, 1.0),\n",
       "   (1406515, 1.0),\n",
       "   (1149105, 1.0),\n",
       "   (1310035, 1.0),\n",
       "   (1255435, 1.0),\n",
       "   (1149678, 1.0),\n",
       "   (1118206, 1.0),\n",
       "   (1369738, 1.0),\n",
       "   (1173182, 1.0),\n",
       "   (1267834, 1.0),\n",
       "   (1363570, 1.0),\n",
       "   (1194942, 1.0),\n",
       "   (1156478, 1.0),\n",
       "   (1131375, 1.0),\n",
       "   (1141087, 1.0),\n",
       "   (1128335, 1.0),\n",
       "   (1194135, 1.0),\n",
       "   (1237221, 1.0),\n",
       "   (1181951, 1.0),\n",
       "   (1214839, 1.0),\n",
       "   (1173863, 1.0),\n",
       "   (1259652, 1.0),\n",
       "   (1212140, 1.0),\n",
       "   (1091084, 1.0),\n",
       "   (1230484, 1.0),\n",
       "   (1219692, 1.0),\n",
       "   (1204700, 1.0),\n",
       "   (1203844, 1.0),\n",
       "   (1055220, 1.0),\n",
       "   (1170148, 1.0),\n",
       "   (1304852, 1.0),\n",
       "   (1152420, 1.0),\n",
       "   (1183573, 1.0),\n",
       "   (1108501, 1.0),\n",
       "   (1185037, 1.0),\n",
       "   (1236551, 1.0),\n",
       "   (1223717, 1.0)],\n",
       "  'user': 1228800},\n",
       " {'len': 70,\n",
       "  'similars': [(1299262, 1.0),\n",
       "   (1242926, 1.0),\n",
       "   (1156446, 1.0),\n",
       "   (1185318, 1.0),\n",
       "   (1241430, 1.0),\n",
       "   (1189062, 1.0),\n",
       "   (1112942, 1.0),\n",
       "   (1252134, 1.0),\n",
       "   (1209150, 1.0),\n",
       "   (1245910, 1.0),\n",
       "   (1250905, 1.0),\n",
       "   (1225113, 1.0),\n",
       "   (1254721, 1.0),\n",
       "   (1337321, 1.0),\n",
       "   (1189873, 1.0),\n",
       "   (1253513, 1.0),\n",
       "   (1175241, 1.0),\n",
       "   (1240248, 1.0),\n",
       "   (1228400, 1.0),\n",
       "   (1171912, 1.0),\n",
       "   (1117056, 1.0),\n",
       "   (1298632, 1.0),\n",
       "   (1266379, 1.0),\n",
       "   (1265187, 1.0),\n",
       "   (1300771, 1.0),\n",
       "   (1169075, 1.0),\n",
       "   (1266091, 1.0),\n",
       "   (1147739, 1.0),\n",
       "   (1239563, 1.0),\n",
       "   (1384075, 1.0),\n",
       "   (1146835, 1.0),\n",
       "   (1097593, 1.0),\n",
       "   (1209267, 1.0),\n",
       "   (1180650, 1.0),\n",
       "   (1159730, 1.0),\n",
       "   (1060670, 1.0),\n",
       "   (1139906, 1.0),\n",
       "   (1090926, 1.0),\n",
       "   (1204706, 1.0),\n",
       "   (1219762, 1.0),\n",
       "   (1130826, 1.0),\n",
       "   (1205386, 1.0),\n",
       "   (1147954, 1.0),\n",
       "   (1219170, 1.0),\n",
       "   (1215389, 1.0),\n",
       "   (1086063, 1.0),\n",
       "   (1207005, 1.0),\n",
       "   (1132789, 1.0),\n",
       "   (1272069, 1.0),\n",
       "   (1159068, 1.0),\n",
       "   (1167188, 1.0),\n",
       "   (1197476, 1.0),\n",
       "   (1182204, 1.0),\n",
       "   (1327460, 1.0),\n",
       "   (1116828, 1.0),\n",
       "   (1138724, 1.0),\n",
       "   (1203404, 1.0),\n",
       "   (1194428, 1.0),\n",
       "   (1258364, 1.0),\n",
       "   (1106444, 1.0),\n",
       "   (1283372, 1.0),\n",
       "   (1309460, 1.0),\n",
       "   (1341039, 1.0),\n",
       "   (1095693, 1.0),\n",
       "   (1278223, 1.0),\n",
       "   (1333431, 1.0),\n",
       "   (1146239, 1.0),\n",
       "   (1311143, 1.0),\n",
       "   (1208087, 1.0),\n",
       "   (1101103, 1.0)],\n",
       "  'user': 1098768},\n",
       " {'len': 4,\n",
       "  'similars': [(1321806, 1.0), (1203385, 1.0), (1186924, 1.0), (1195359, 1.0)],\n",
       "  'user': 1148960},\n",
       " {'len': 17,\n",
       "  'similars': [(1284054, 1.0),\n",
       "   (1196386, 1.0),\n",
       "   (1154634, 1.0),\n",
       "   (1389577, 1.0),\n",
       "   (1183499, 1.0),\n",
       "   (1278576, 1.0),\n",
       "   (1356939, 1.0),\n",
       "   (1218155, 1.0),\n",
       "   (1304971, 1.0),\n",
       "   (1165726, 1.0),\n",
       "   (1365786, 1.0),\n",
       "   (1166550, 1.0),\n",
       "   (1198022, 1.0),\n",
       "   (1295237, 1.0),\n",
       "   (1290812, 1.0),\n",
       "   (1210396, 1.0),\n",
       "   (1152669, 1.0)],\n",
       "  'user': 1212424}]"
      ]
     },
     "execution_count": 81,
     "metadata": {},
     "output_type": "execute_result"
    }
   ],
   "source": [
    "crit_long_grouped.take(5)"
   ]
  },
  {
   "cell_type": "code",
   "execution_count": 83,
   "metadata": {
    "collapsed": false
   },
   "outputs": [
    {
     "name": "stderr",
     "output_type": "stream",
     "text": [
      "/home/bjur/spark-2.0.1-bin-hadoop2.7/python/pyspark/sql/session.py:336: UserWarning: Using RDD of dict to inferSchema is deprecated. Use pyspark.sql.Row instead\n",
      "  warnings.warn(\"Using RDD of dict to inferSchema is deprecated. \"\n"
     ]
    }
   ],
   "source": [
    "to_file= crit_long_grouped.toDF()"
   ]
  },
  {
   "cell_type": "code",
   "execution_count": 88,
   "metadata": {
    "collapsed": true
   },
   "outputs": [],
   "source": [
    "to_file_J=to_file.toJSON()"
   ]
  },
  {
   "cell_type": "code",
   "execution_count": 91,
   "metadata": {
    "collapsed": true
   },
   "outputs": [],
   "source": []
  },
  {
   "cell_type": "code",
   "execution_count": 90,
   "metadata": {
    "collapsed": false
   },
   "outputs": [],
   "source": [
    "#se genera un archivo con todo el  CRM y un threshold de ssimilaridad mayor del 50%\n",
    "to_file_J.saveAsTextFile(\"Users_Data.json\")"
   ]
  },
  {
   "cell_type": "code",
   "execution_count": null,
   "metadata": {
    "collapsed": true
   },
   "outputs": [],
   "source": []
  },
  {
   "cell_type": "code",
   "execution_count": 87,
   "metadata": {
    "collapsed": false
   },
   "outputs": [
    {
     "name": "stdout",
     "output_type": "stream",
     "text": [
      "/home/bjur/spark-2.0.1-bin-hadoop2.7/TFMbjur\r\n"
     ]
    }
   ],
   "source": [
    "!pwd"
   ]
  },
  {
   "cell_type": "code",
   "execution_count": 42,
   "metadata": {
    "collapsed": true
   },
   "outputs": [],
   "source": [
    "df_crit = crit.toDF()"
   ]
  },
  {
   "cell_type": "code",
   "execution_count": 34,
   "metadata": {
    "collapsed": true
   },
   "outputs": [],
   "source": [
    "df_crit_json = df_crit.toJSON()"
   ]
  },
  {
   "cell_type": "code",
   "execution_count": 28,
   "metadata": {
    "collapsed": false
   },
   "outputs": [
    {
     "data": {
      "text/plain": [
       "[Row(_1=Row(_1=1035324, _2=1185282), _2=Row(_1=1, _2=1.0)),\n",
       " Row(_1=Row(_1=1188772, _2=1340010), _2=Row(_1=1, _2=1.0))]"
      ]
     },
     "execution_count": 28,
     "metadata": {},
     "output_type": "execute_result"
    }
   ],
   "source": [
    "df_crit_Reg = df_crit"
   ]
  },
  {
   "cell_type": "code",
   "execution_count": 93,
   "metadata": {
    "collapsed": false
   },
   "outputs": [],
   "source": [
    "users_file = sc.textFile(\"Users_Data.json\")"
   ]
  },
  {
   "cell_type": "code",
   "execution_count": 100,
   "metadata": {
    "collapsed": false
   },
   "outputs": [],
   "source": [
    "users_file_2 = users_file.flatMap(lambda l: l.split('\\n'))"
   ]
  },
  {
   "cell_type": "code",
   "execution_count": 104,
   "metadata": {
    "collapsed": false
   },
   "outputs": [
    {
     "data": {
      "text/plain": [
       "[u'{\"len\":31,\"similars\":[{\"_1\":1203803,\"_2\":1.0},{\"_1\":1410571,\"_2\":1.0},{\"_1\":1160283,\"_2\":1.0},{\"_1\":1178506,\"_2\":1.0},{\"_1\":1277068,\"_2\":1.0},{\"_1\":1199061,\"_2\":1.0},{\"_1\":1257717,\"_2\":1.0},{\"_1\":1264661,\"_2\":1.0},{\"_1\":1082965,\"_2\":1.0},{\"_1\":1234454,\"_2\":1.0},{\"_1\":1193796,\"_2\":1.0},{\"_1\":1298830,\"_2\":1.0},{\"_1\":1286430,\"_2\":1.0},{\"_1\":1229854,\"_2\":1.0},{\"_1\":1177196,\"_2\":1.0},{\"_1\":1225711,\"_2\":1.0},{\"_1\":1149999,\"_2\":1.0},{\"_1\":1266999,\"_2\":1.0},{\"_1\":1225367,\"_2\":1.0},{\"_1\":1120543,\"_2\":1.0},{\"_1\":1206454,\"_2\":1.0},{\"_1\":1262768,\"_2\":1.0},{\"_1\":1269680,\"_2\":1.0},{\"_1\":1234345,\"_2\":1.0},{\"_1\":1231553,\"_2\":1.0},{\"_1\":1175609,\"_2\":1.0},{\"_1\":1155641,\"_2\":1.0},{\"_1\":1376553,\"_2\":1.0},{\"_1\":1227514,\"_2\":1.0},{\"_1\":1176192,\"_2\":1.0},{\"_1\":1182576,\"_2\":1.0}],\"user\":1212423}']"
      ]
     },
     "execution_count": 104,
     "metadata": {},
     "output_type": "execute_result"
    }
   ],
   "source": [
    "users_file_2.take(1)"
   ]
  },
  {
   "cell_type": "code",
   "execution_count": 94,
   "metadata": {
    "collapsed": false,
    "scrolled": true
   },
   "outputs": [
    {
     "data": {
      "text/plain": [
       "[u'{\"len\":31,\"similars\":[{\"_1\":1203803,\"_2\":1.0},{\"_1\":1410571,\"_2\":1.0},{\"_1\":1160283,\"_2\":1.0},{\"_1\":1178506,\"_2\":1.0},{\"_1\":1277068,\"_2\":1.0},{\"_1\":1199061,\"_2\":1.0},{\"_1\":1257717,\"_2\":1.0},{\"_1\":1264661,\"_2\":1.0},{\"_1\":1082965,\"_2\":1.0},{\"_1\":1234454,\"_2\":1.0},{\"_1\":1193796,\"_2\":1.0},{\"_1\":1298830,\"_2\":1.0},{\"_1\":1286430,\"_2\":1.0},{\"_1\":1229854,\"_2\":1.0},{\"_1\":1177196,\"_2\":1.0},{\"_1\":1225711,\"_2\":1.0},{\"_1\":1149999,\"_2\":1.0},{\"_1\":1266999,\"_2\":1.0},{\"_1\":1225367,\"_2\":1.0},{\"_1\":1120543,\"_2\":1.0},{\"_1\":1206454,\"_2\":1.0},{\"_1\":1262768,\"_2\":1.0},{\"_1\":1269680,\"_2\":1.0},{\"_1\":1234345,\"_2\":1.0},{\"_1\":1231553,\"_2\":1.0},{\"_1\":1175609,\"_2\":1.0},{\"_1\":1155641,\"_2\":1.0},{\"_1\":1376553,\"_2\":1.0},{\"_1\":1227514,\"_2\":1.0},{\"_1\":1176192,\"_2\":1.0},{\"_1\":1182576,\"_2\":1.0}],\"user\":1212423}',\n",
       " u'{\"len\":21,\"similars\":[{\"_1\":1066923,\"_2\":1.0},{\"_1\":1132531,\"_2\":1.0},{\"_1\":1191667,\"_2\":1.0},{\"_1\":1223867,\"_2\":1.0},{\"_1\":1250483,\"_2\":1.0},{\"_1\":1316923,\"_2\":1.0},{\"_1\":1223290,\"_2\":1.0},{\"_1\":1101970,\"_2\":1.0},{\"_1\":1194266,\"_2\":1.0},{\"_1\":1218402,\"_2\":1.0},{\"_1\":1315157,\"_2\":1.0},{\"_1\":1206317,\"_2\":1.0},{\"_1\":1117157,\"_2\":1.0},{\"_1\":1144036,\"_2\":1.0},{\"_1\":1376015,\"_2\":1.0},{\"_1\":1139983,\"_2\":1.0},{\"_1\":1311824,\"_2\":1.0},{\"_1\":1314760,\"_2\":1.0},{\"_1\":1163609,\"_2\":1.0},{\"_1\":1134953,\"_2\":1.0},{\"_1\":1163401,\"_2\":1.0}],\"user\":1265711}',\n",
       " u'{\"len\":2,\"similars\":[{\"_1\":1193747,\"_2\":1.0},{\"_1\":1216905,\"_2\":1.0}],\"user\":1308911}']"
      ]
     },
     "execution_count": 94,
     "metadata": {},
     "output_type": "execute_result"
    }
   ],
   "source": [
    "users_file.take(3)"
   ]
  },
  {
   "cell_type": "code",
   "execution_count": null,
   "metadata": {
    "collapsed": true
   },
   "outputs": [],
   "source": [
    ".map(lambda (i,dicc): (i,sum({dicc[k] if k in dicc else -1 for k in query}) ))"
   ]
  },
  {
   "cell_type": "code",
   "execution_count": null,
   "metadata": {
    "collapsed": true
   },
   "outputs": [],
   "source": [
    "#leer segmento\n",
    "#cruzar con los usuarios\n",
    "#hacer una lista y agrupa\n",
    "#puntuar \n",
    "#ordenar\n",
    "#extraer"
   ]
  },
  {
   "cell_type": "code",
   "execution_count": null,
   "metadata": {
    "collapsed": true
   },
   "outputs": [],
   "source": []
  },
  {
   "cell_type": "code",
   "execution_count": 127,
   "metadata": {
    "collapsed": false
   },
   "outputs": [
    {
     "data": {
      "text/plain": [
       "[(1212423,\n",
       "  [{u'_1': 1203803, u'_2': 1.0},\n",
       "   {u'_1': 1410571, u'_2': 1.0},\n",
       "   {u'_1': 1160283, u'_2': 1.0},\n",
       "   {u'_1': 1178506, u'_2': 1.0},\n",
       "   {u'_1': 1277068, u'_2': 1.0},\n",
       "   {u'_1': 1199061, u'_2': 1.0},\n",
       "   {u'_1': 1257717, u'_2': 1.0},\n",
       "   {u'_1': 1264661, u'_2': 1.0},\n",
       "   {u'_1': 1082965, u'_2': 1.0},\n",
       "   {u'_1': 1234454, u'_2': 1.0},\n",
       "   {u'_1': 1193796, u'_2': 1.0},\n",
       "   {u'_1': 1298830, u'_2': 1.0},\n",
       "   {u'_1': 1286430, u'_2': 1.0},\n",
       "   {u'_1': 1229854, u'_2': 1.0},\n",
       "   {u'_1': 1177196, u'_2': 1.0},\n",
       "   {u'_1': 1225711, u'_2': 1.0},\n",
       "   {u'_1': 1149999, u'_2': 1.0},\n",
       "   {u'_1': 1266999, u'_2': 1.0},\n",
       "   {u'_1': 1225367, u'_2': 1.0},\n",
       "   {u'_1': 1120543, u'_2': 1.0},\n",
       "   {u'_1': 1206454, u'_2': 1.0},\n",
       "   {u'_1': 1262768, u'_2': 1.0},\n",
       "   {u'_1': 1269680, u'_2': 1.0},\n",
       "   {u'_1': 1234345, u'_2': 1.0},\n",
       "   {u'_1': 1231553, u'_2': 1.0},\n",
       "   {u'_1': 1175609, u'_2': 1.0},\n",
       "   {u'_1': 1155641, u'_2': 1.0},\n",
       "   {u'_1': 1376553, u'_2': 1.0},\n",
       "   {u'_1': 1227514, u'_2': 1.0},\n",
       "   {u'_1': 1176192, u'_2': 1.0},\n",
       "   {u'_1': 1182576, u'_2': 1.0}])]"
      ]
     },
     "execution_count": 127,
     "metadata": {},
     "output_type": "execute_result"
    }
   ],
   "source": [
    "users_file.map(lambda Row:json.loads(Row)).map(lambda row: (row['user'],row['similars'])).take(1)"
   ]
  },
  {
   "cell_type": "code",
   "execution_count": null,
   "metadata": {
    "collapsed": true
   },
   "outputs": [],
   "source": []
  },
  {
   "cell_type": "code",
   "execution_count": null,
   "metadata": {
    "collapsed": true
   },
   "outputs": [],
   "source": [
    "import numpy as np\n",
    "# desde una query , calculo los indices de para cada documento los ordeno  \n",
    "def get_mor simil(tfidf =None, query = None, numberOfDocs = 10):\n",
    "    return (tfidf\n",
    "           .map(lambda (i,dicc): (i,sum({dicc[k] if k in dicc else -1 for k in query}) ))\n",
    "           .takeOrdered(numberOfDocs,key=lambda x: -x[1]))\n",
    "\n",
    "def return_docs(query = None, corpus = None, tfidf = None, numberOfDocs =10):\n",
    "    p = get_paragraphs(tfidf, query, numberOfDocs)\n",
    "    print 'Top-%s paragraphs are %s' % (numberOfDocs,p)\n",
    "    \n",
    "    indexes = [i[0] for i in p]\n",
    "    return corpus.filter(lambda (i,doc): i in indexes).collect()"
   ]
  },
  {
   "cell_type": "code",
   "execution_count": 199,
   "metadata": {
    "collapsed": false
   },
   "outputs": [],
   "source": [
    "\n",
    "with open('segments.json') as data_file:\n",
    "\t\t\t\tdata = json.load(data_file)\n",
    "        \n",
    "def find_seg(name):\n",
    "   for segs in data:\n",
    "      if  segs['name']  == name:\n",
    "         \n",
    "            return map(str,segs['IDs'])\n",
    "    \n",
    "name ='Mujeres7'\n",
    "list2 = find_seg(name)\n",
    "\n"
   ]
  },
  {
   "cell_type": "code",
   "execution_count": 198,
   "metadata": {
    "collapsed": false
   },
   "outputs": [
    {
     "name": "stdout",
     "output_type": "stream",
     "text": [
      "/home/bjur/spark-2.0.1-bin-hadoop2.7/TFMbjur\r\n"
     ]
    }
   ],
   "source": [
    "!pwd"
   ]
  },
  {
   "cell_type": "code",
   "execution_count": 197,
   "metadata": {
    "collapsed": false
   },
   "outputs": [
    {
     "data": {
      "text/plain": [
       "'2051296640052722281'"
      ]
     },
     "execution_count": 197,
     "metadata": {},
     "output_type": "execute_result"
    }
   ],
   "source": [
    "list2[-1]"
   ]
  },
  {
   "cell_type": "code",
   "execution_count": 132,
   "metadata": {
    "collapsed": false
   },
   "outputs": [],
   "source": [
    "users_file = sc.textFile(\"Users_Data.json\")\n",
    "users_file_2 = users_file.flatMap(lambda l: l.split('\\n'))\n",
    "users_file_3 = users_file_2.map(lambda Row:json.loads(Row)).map(lambda row: (row['user'],row['similars']))"
   ]
  },
  {
   "cell_type": "code",
   "execution_count": 146,
   "metadata": {
    "collapsed": false
   },
   "outputs": [
    {
     "data": {
      "text/plain": [
       "[(1212423,\n",
       "  [{u'_1': 1203803, u'_2': 1.0},\n",
       "   {u'_1': 1410571, u'_2': 1.0},\n",
       "   {u'_1': 1160283, u'_2': 1.0},\n",
       "   {u'_1': 1178506, u'_2': 1.0},\n",
       "   {u'_1': 1277068, u'_2': 1.0},\n",
       "   {u'_1': 1199061, u'_2': 1.0},\n",
       "   {u'_1': 1257717, u'_2': 1.0},\n",
       "   {u'_1': 1264661, u'_2': 1.0},\n",
       "   {u'_1': 1082965, u'_2': 1.0},\n",
       "   {u'_1': 1234454, u'_2': 1.0},\n",
       "   {u'_1': 1193796, u'_2': 1.0},\n",
       "   {u'_1': 1298830, u'_2': 1.0},\n",
       "   {u'_1': 1286430, u'_2': 1.0},\n",
       "   {u'_1': 1229854, u'_2': 1.0},\n",
       "   {u'_1': 1177196, u'_2': 1.0},\n",
       "   {u'_1': 1225711, u'_2': 1.0},\n",
       "   {u'_1': 1149999, u'_2': 1.0},\n",
       "   {u'_1': 1266999, u'_2': 1.0},\n",
       "   {u'_1': 1225367, u'_2': 1.0},\n",
       "   {u'_1': 1120543, u'_2': 1.0},\n",
       "   {u'_1': 1206454, u'_2': 1.0},\n",
       "   {u'_1': 1262768, u'_2': 1.0},\n",
       "   {u'_1': 1269680, u'_2': 1.0},\n",
       "   {u'_1': 1234345, u'_2': 1.0},\n",
       "   {u'_1': 1231553, u'_2': 1.0},\n",
       "   {u'_1': 1175609, u'_2': 1.0},\n",
       "   {u'_1': 1155641, u'_2': 1.0},\n",
       "   {u'_1': 1376553, u'_2': 1.0},\n",
       "   {u'_1': 1227514, u'_2': 1.0},\n",
       "   {u'_1': 1176192, u'_2': 1.0},\n",
       "   {u'_1': 1182576, u'_2': 1.0}])]"
      ]
     },
     "execution_count": 146,
     "metadata": {},
     "output_type": "execute_result"
    }
   ],
   "source": [
    "users_file_3.take(1)"
   ]
  },
  {
   "cell_type": "code",
   "execution_count": 200,
   "metadata": {
    "collapsed": false
   },
   "outputs": [],
   "source": [
    "users_file_4=users_file_3.filter(lambda (x,_):  str(x)  in list2 )"
   ]
  },
  {
   "cell_type": "code",
   "execution_count": 217,
   "metadata": {
    "collapsed": false
   },
   "outputs": [],
   "source": [
    "users_agg = users_file_4.flatMap(lambda(a,b): [(x['_1'],(x['_2'],1))for x in b ]).reduceByKey(lambda (a,b),(c,d):(a+c,b+d)).map(lambda (a,(b,c)):(a,b/c)).sortBy(lambda(x,y):y,False)"
   ]
  },
  {
   "cell_type": "code",
   "execution_count": 218,
   "metadata": {
    "collapsed": false
   },
   "outputs": [
    {
     "data": {
      "text/plain": [
       "[(1176192, 1.0),\n",
       " (1186816, 1.0),\n",
       " (1133968, 1.0),\n",
       " (1229528, 1.0),\n",
       " (1252952, 1.0),\n",
       " (1262616, 1.0),\n",
       " (1250336, 1.0),\n",
       " (1262768, 1.0),\n",
       " (1357096, 1.0),\n",
       " (1269680, 1.0)]"
      ]
     },
     "execution_count": 218,
     "metadata": {},
     "output_type": "execute_result"
    }
   ],
   "source": [
    "users_agg.take(10)"
   ]
  },
  {
   "cell_type": "code",
   "execution_count": 201,
   "metadata": {
    "collapsed": false
   },
   "outputs": [
    {
     "data": {
      "text/plain": [
       "11"
      ]
     },
     "execution_count": 201,
     "metadata": {},
     "output_type": "execute_result"
    }
   ],
   "source": [
    "users_file_4.count()"
   ]
  }
 ],
 "metadata": {
  "kernelspec": {
   "display_name": "Python 2",
   "language": "python",
   "name": "python2"
  },
  "language_info": {
   "codemirror_mode": {
    "name": "ipython",
    "version": 2
   },
   "file_extension": ".py",
   "mimetype": "text/x-python",
   "name": "python",
   "nbconvert_exporter": "python",
   "pygments_lexer": "ipython2",
   "version": "2.7.12"
  }
 },
 "nbformat": 4,
 "nbformat_minor": 1
}
