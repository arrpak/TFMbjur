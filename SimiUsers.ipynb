{
 "cells": [
  {
   "cell_type": "code",
   "execution_count": 1,
   "metadata": {
    "collapsed": true
   },
   "outputs": [],
   "source": [
    "#########BLOQUE IMPORTACIÓN LIBRERIAS\n",
    "from\tpyspark.mllib.linalg\timport\tVector,\tVectors\n",
    "from\tpyspark.mllib.regression\timport\tLabeledPoint\n",
    "import math\n",
    "\n",
    "#########BLOQUE DEFINICIÓN FUNCIONES\n",
    "\n",
    "def correlation(size, dotProduct, ratingSum,rating2Sum,ratingNormSq,rating2NormSq):\n",
    "    numerator = size * dotProduct - ratingSum * rating2Sum\n",
    "    denominator = math.sqrt(size * ratingNormSq - ratingSum * ratingSum)*math.sqrt(size * rating2NormSq - rating2Sum * rating2Sum)\n",
    "    #if denominator = 0:\n",
    "     #   corr =0;\n",
    "    #else:\n",
    "     #   corr = numerator / denominator\n",
    "    return  3\n",
    "\n",
    "\n",
    "def cosineSimilarity(dotProduct,ratingNorm,rating2Norm): \n",
    "    if ratingNorm * rating2Norm == 0:\n",
    "        cosi = 0\n",
    "    else: \n",
    "        cosi = dotProduct / (ratingNorm * rating2Norm)\n",
    "    \n",
    "    return cosi\n",
    "\n",
    "\n",
    "###CARGA DATOS, usamos otra fuente  QUE TIENE LA MISMA ESTRUCTURA (UserId,Publisher Id),con fuente\n",
    "Logs = sc.textFile('Data/advertising.csv')\n",
    "header = Logs.first()\n",
    "#quito headers\n",
    "Lorgs_norm = Logs.filter(lambda row: row != header).map(lambda l: l.split(','))\n",
    "#Para el calculo , me quedo solo con aquellos usuarios que hayan recibido la impresion original\n",
    "#agrupamos por publisher, y sacamos el numero de usuarios por publisher, de la forma (publisher, numero de usuarios)\n",
    "\n",
    "Log2Rec = Lorgs_norm.map(lambda tokens: (int(tokens[2]),int(tokens[1]),1 if tokens[5] == \"True\" else 0)).cache()\n"
   ]
  },
  {
   "cell_type": "code",
   "execution_count": 2,
   "metadata": {
    "collapsed": true
   },
   "outputs": [],
   "source": [
    "#agrupamos por usuario, y sacamos el numero de interacciones por publisher, de la forma (usuario, numero de interacciones con publishers)\n",
    "num_InterPerUser = Log2Rec.groupBy(lambda (x,y,z): x).map(lambda (x,iterator):(x,len(iterator)))"
   ]
  },
  {
   "cell_type": "code",
   "execution_count": 4,
   "metadata": {
    "collapsed": false
   },
   "outputs": [],
   "source": [
    "#filtro los que tengan menos de una interacción\n",
    "num_InterPerUser_fil = num_InterPerUser.filter(lambda (x,y): y>2) "
   ]
  },
  {
   "cell_type": "code",
   "execution_count": 8,
   "metadata": {
    "collapsed": false
   },
   "outputs": [
    {
     "data": {
      "text/plain": [
       "[(1048580, 3), (1048590, 4)]"
      ]
     },
     "execution_count": 8,
     "metadata": {},
     "output_type": "execute_result"
    }
   ],
   "source": [
    "num_InterPerUser_fil.take(2)"
   ]
  },
  {
   "cell_type": "code",
   "execution_count": 9,
   "metadata": {
    "collapsed": false
   },
   "outputs": [
    {
     "data": {
      "text/plain": [
       "168498"
      ]
     },
     "execution_count": 9,
     "metadata": {},
     "output_type": "execute_result"
    }
   ],
   "source": [
    "num_InterPerUser_fil.count()"
   ]
  },
  {
   "cell_type": "code",
   "execution_count": 24,
   "metadata": {
    "collapsed": false
   },
   "outputs": [
    {
     "data": {
      "text/plain": [
       "168498"
      ]
     },
     "execution_count": 24,
     "metadata": {},
     "output_type": "execute_result"
    }
   ],
   "source": [
    "num_InterPerUser_fil.count()"
   ]
  },
  {
   "cell_type": "code",
   "execution_count": 5,
   "metadata": {
    "collapsed": false
   },
   "outputs": [],
   "source": [
    "#agrupamos por usuario, desde key y hacemos el join para tener ( usuario,publisher, imp, volumen de interacciones por usuario)\n",
    "ints_sWithSize = Log2Rec.groupBy(lambda (x,y,z): x).join(num_InterPerUser_fil).flatMap(lambda(a,(b,c)):((x,c) for x in b))"
   ]
  },
  {
   "cell_type": "code",
   "execution_count": 26,
   "metadata": {
    "collapsed": false
   },
   "outputs": [
    {
     "data": {
      "text/plain": [
       "[((1048580, 2134, 0), 3), ((1048580, 2429, 0), 3)]"
      ]
     },
     "execution_count": 26,
     "metadata": {},
     "output_type": "execute_result"
    }
   ],
   "source": [
    "ints_sWithSize.take(2)"
   ]
  },
  {
   "cell_type": "code",
   "execution_count": 6,
   "metadata": {
    "collapsed": false
   },
   "outputs": [],
   "source": [
    "ints_sWithSize_2 = ints_sWithSize.map(lambda((a,b,c),d):(b,(a,c,d)))"
   ]
  },
  {
   "cell_type": "code",
   "execution_count": 16,
   "metadata": {
    "collapsed": false
   },
   "outputs": [
    {
     "data": {
      "text/plain": [
       "[(2134, (1048580, 0, 3)), (2429, (1048580, 0, 3))]"
      ]
     },
     "execution_count": 16,
     "metadata": {},
     "output_type": "execute_result"
    }
   ],
   "source": [
    "#HAgo pares usuario a usuario desde la interracción por publisher\n",
    "ints_sWithSize_2.take(2)"
   ]
  },
  {
   "cell_type": "code",
   "execution_count": 27,
   "metadata": {
    "collapsed": false
   },
   "outputs": [
    {
     "data": {
      "text/plain": [
       "696110"
      ]
     },
     "execution_count": 27,
     "metadata": {},
     "output_type": "execute_result"
    }
   ],
   "source": [
    "ints_sWithSize_2.count()"
   ]
  },
  {
   "cell_type": "code",
   "execution_count": 7,
   "metadata": {
    "collapsed": true
   },
   "outputs": [],
   "source": [
    "#reasigno key al publisher, y hago un join , de cara a ver cada una de las interecciones comunes entre usuarios, usuario a usuario\n",
    "inter_pairs_pub = ints_sWithSize_2.join(ints_sWithSize_2)\n",
    "#(publisher, usruo 1, usuario 2)"
   ]
  },
  {
   "cell_type": "code",
   "execution_count": 51,
   "metadata": {
    "collapsed": false
   },
   "outputs": [
    {
     "data": {
      "text/plain": [
       "[(2048, ((1310980, 0, 5), (1310980, 0, 5))),\n",
       " (2048, ((1310980, 0, 5), (1399116, 0, 3)))]"
      ]
     },
     "execution_count": 51,
     "metadata": {},
     "output_type": "execute_result"
    }
   ],
   "source": [
    "inter_pairs_pub.take(2)"
   ]
  },
  {
   "cell_type": "code",
   "execution_count": 9,
   "metadata": {
    "collapsed": false
   },
   "outputs": [],
   "source": [
    "#me quito duplicidades y los que son iguales, buscamos tener copres entre peliculas para cada usuario\n",
    "ratingPairs = inter_pairs_pub.map(lambda (x,((a,b,c),(a1,b1,c1))):(x,((int(a),int(b),c),(int(a1),int(b1),c1)))).filter(lambda (x,((a,b,c),(a1,b1,c1))):a<a1)"
   ]
  },
  {
   "cell_type": "code",
   "execution_count": 52,
   "metadata": {
    "collapsed": false
   },
   "outputs": [
    {
     "data": {
      "text/plain": [
       "[(2048, ((1310980, 0, 5), (1399116, 0, 3))),\n",
       " (2048, ((1310980, 0, 5), (1340412, 0, 4)))]"
      ]
     },
     "execution_count": 52,
     "metadata": {},
     "output_type": "execute_result"
    }
   ],
   "source": [
    "ratingPairs.take(2)"
   ]
  },
  {
   "cell_type": "code",
   "execution_count": 10,
   "metadata": {
    "collapsed": false
   },
   "outputs": [],
   "source": [
    "#z el rating , (par)\n",
    "vectorial_params = ratingPairs.map(lambda (a,((y,z,k),(y1,z1,k1))):((y,y1),(z*z1, z,z1,z*z,z1*z1,k,k1,1)) )"
   ]
  },
  {
   "cell_type": "code",
   "execution_count": 9,
   "metadata": {
    "collapsed": false,
    "scrolled": true
   },
   "outputs": [
    {
     "data": {
      "text/plain": [
       "[((1310980, 1399116), (0, 0, 0, 0, 0, 5, 3, 1)),\n",
       " ((1310980, 1340412), (0, 0, 0, 0, 0, 5, 4, 1)),\n",
       " ((1310980, 1349928), (0, 0, 0, 0, 0, 5, 3, 1)),\n",
       " ((1310980, 1361340), (0, 0, 0, 0, 0, 5, 3, 1))]"
      ]
     },
     "execution_count": 9,
     "metadata": {},
     "output_type": "execute_result"
    }
   ],
   "source": [
    "vectorial_params.take(4)"
   ]
  },
  {
   "cell_type": "code",
   "execution_count": 15,
   "metadata": {
    "collapsed": true
   },
   "outputs": [],
   "source": [
    "vectorial_params_3 = vectorial_params.reduceByKey(lambda x,y:(x[0]+y[0],x[1]+y[1],x[2]+y[2],x[3]+y[3],x[4]+y[4],x[5]+y[5],x[6]+y[6],x[7]+y[7])).cache()"
   ]
  },
  {
   "cell_type": "code",
   "execution_count": 54,
   "metadata": {
    "collapsed": false
   },
   "outputs": [
    {
     "data": {
      "text/plain": [
       "[((1248672, 1286966), (0, 0, 0, 0, 0, 5, 7, 1)),\n",
       " ((1095255, 1155955), (0, 0, 0, 0, 0, 3, 4, 1)),\n",
       " ((1226657, 1269965), (0, 0, 0, 0, 0, 7, 3, 1)),\n",
       " ((1069756, 1397362), (0, 0, 0, 0, 0, 3, 3, 1)),\n",
       " ((1113240, 1319382), (0, 1, 0, 1, 0, 4, 4, 1))]"
      ]
     },
     "execution_count": 54,
     "metadata": {},
     "output_type": "execute_result"
    }
   ],
   "source": [
    "vectorial_params_3.take(5)"
   ]
  },
  {
   "cell_type": "code",
   "execution_count": 12,
   "metadata": {
    "collapsed": true
   },
   "outputs": [],
   "source": [
    "def correlation(size, dotProduct, ratingSum,rating2Sum,ratingNormSq,rating2NormSq):\n",
    "    numerator = size * dotProduct - ratingSum * rating2Sum\n",
    "    denominator = math.sqrt(size * ratingNormSq - ratingSum * ratingSum)*math.sqrt(size * rating2NormSq - rating2Sum * rating2Sum)\n",
    "    if denominator == 0:\n",
    "        corr =0 \n",
    "    else:\n",
    "        corr = numerator / denominator\n",
    "    return  corr\n",
    "\n",
    "def cosineSimilarity(dotProduct,ratingNorm,rating2Norm): \n",
    "    if ratingNorm * rating2Norm == 0:\n",
    "        cosi = 0\n",
    "    else: \n",
    "        cosi = dotProduct / (ratingNorm * rating2Norm)\n",
    "    \n",
    "    return cosi"
   ]
  },
  {
   "cell_type": "code",
   "execution_count": 16,
   "metadata": {
    "collapsed": false,
    "scrolled": true
   },
   "outputs": [],
   "source": [
    "simmil_metrics_2= vectorial_params_3.mapValues(lambda (a,b,c,d,e,f,g,h):(h,correlation(h,a,b,c,d,e))).cache()\n"
   ]
  },
  {
   "cell_type": "code",
   "execution_count": 13,
   "metadata": {
    "collapsed": true
   },
   "outputs": [],
   "source": [
    "simmil_metrics= vectorial_params_3.mapValues(lambda (a,b,c,d,e,f,g,h):(h,cosineSimilarity(a,math.sqrt(d),math.sqrt(e)))).cache()\n"
   ]
  },
  {
   "cell_type": "code",
   "execution_count": 17,
   "metadata": {
    "collapsed": false
   },
   "outputs": [
    {
     "data": {
      "text/plain": [
       "80443657"
      ]
     },
     "execution_count": 17,
     "metadata": {},
     "output_type": "execute_result"
    }
   ],
   "source": [
    "simmil_metrics_2.count()"
   ]
  },
  {
   "cell_type": "code",
   "execution_count": null,
   "metadata": {
    "collapsed": true
   },
   "outputs": [],
   "source": [
    "#obtengo los items que guardan algún tipo de similaridad\n",
    "item = 1111\n",
    "sample = simmil_metrics.filter(lambda ((a,b),(x,y)): a==item or b==item).collect()"
   ]
  },
  {
   "cell_type": "code",
   "execution_count": 19,
   "metadata": {
    "collapsed": false
   },
   "outputs": [
    {
     "data": {
      "text/plain": [
       "[((1256224, 1292438), (1, 0)), ((1207951, 1310619), (1, 0))]"
      ]
     },
     "execution_count": 19,
     "metadata": {},
     "output_type": "execute_result"
    }
   ],
   "source": [
    "simmil_metrics_2.take(2)"
   ]
  },
  {
   "cell_type": "code",
   "execution_count": 20,
   "metadata": {
    "collapsed": true
   },
   "outputs": [],
   "source": [
    "crit = simmil_metrics.filter(lambda ((a,b),(x,y)):y>0.5).cache()"
   ]
  },
  {
   "cell_type": "code",
   "execution_count": null,
   "metadata": {
    "collapsed": true
   },
   "outputs": [],
   "source": [
    "crit.take(5)"
   ]
  }
 ],
 "metadata": {
  "kernelspec": {
   "display_name": "Python 2",
   "language": "python",
   "name": "python2"
  },
  "language_info": {
   "codemirror_mode": {
    "name": "ipython",
    "version": 2
   },
   "file_extension": ".py",
   "mimetype": "text/x-python",
   "name": "python",
   "nbconvert_exporter": "python",
   "pygments_lexer": "ipython2",
   "version": "2.7.12"
  }
 },
 "nbformat": 4,
 "nbformat_minor": 1
}
